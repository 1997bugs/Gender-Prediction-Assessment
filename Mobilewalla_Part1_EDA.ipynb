{
 "cells": [
  {
   "cell_type": "markdown",
   "metadata": {},
   "source": [
    "# Mobilewalla - Data Science Assessment \n",
    "\n",
    "## Shriya Mandarapu"
   ]
  },
  {
   "cell_type": "markdown",
   "metadata": {},
   "source": [
    "# Part 1 - EDA, Impute & Outliers"
   ]
  },
  {
   "cell_type": "markdown",
   "metadata": {},
   "source": [
    "# Outline\n",
    "- Loading Libraries\n",
    "- Loading Data\n"
   ]
  },
  {
   "cell_type": "markdown",
   "metadata": {},
   "source": [
    "### Load Libraries"
   ]
  },
  {
   "cell_type": "code",
   "execution_count": 1,
   "metadata": {},
   "outputs": [
    {
     "data": {
      "image/png": "[encoded data removed]",
      "text/plain": [
       "<Figure size 720x72 with 1 Axes>"
      ]
     },
     "metadata": {
      "needs_background": "light"
     },
     "output_type": "display_data"
    },
    {
     "name": "stdout",
     "output_type": "stream",
     "text": [
      "/Users/adarsh_23/mobilewalla_dataset/app_meta.txt\n",
      "/Users/adarsh_23/mobilewalla_dataset/app_metadata_two.csv\n",
      "/Users/adarsh_23/mobilewalla_dataset/app_propensity_data.csv\n",
      "/Users/adarsh_23/mobilewalla_dataset/Untitled (2).ipynb\n",
      "/Users/adarsh_23/mobilewalla_dataset/mice_imputed_values.csv\n",
      "/Users/adarsh_23/mobilewalla_dataset/app_metadata.csv\n",
      "/Users/adarsh_23/mobilewalla_dataset/train_data.csv\n",
      "/Users/adarsh_23/mobilewalla_dataset/test_data.csv\n"
     ]
    }
   ],
   "source": [
    "import os\n",
    "import pandas as pd\n",
    "import numpy as np\n",
    "import seaborn as sns\n",
    "import matplotlib.pyplot as plt\n",
    "%matplotlib inline\n",
    "\n",
    "\n",
    "colors = ['#494BD3','#E28AE2','#F1F481','#79DB80','#DF5F5F',\n",
    "          '#69DADE','#C2E37D','#E26580','#D39F49','#B96FE3']\n",
    "\n",
    "sns.palplot(sns.color_palette(colors))\n",
    "plt.title('Notebook Colors', size = 12)\n",
    "#plt.axis('off')\n",
    "plt.show()\n",
    "\n",
    "import warnings\n",
    "warnings.filterwarnings(\"ignore\")\n",
    "\n",
    "#/Users/adarsh_23/mobilewalla_dataset\n",
    "filepath = '/Users/adarsh_23/mobilewalla_dataset'\n",
    "for dirname, _, filenames in os.walk('/Users/adarsh_23/mobilewalla_dataset'):\n",
    "    for filename in filenames:\n",
    "        print(os.path.join(dirname, filename))"
   ]
  },
  {
   "cell_type": "markdown",
   "metadata": {},
   "source": [
    "### Load Data"
   ]
  },
  {
   "cell_type": "code",
   "execution_count": 2,
   "metadata": {},
   "outputs": [
    {
     "data": {
      "text/html": [
       "<div>\n",
       "<style scoped>\n",
       "    .dataframe tbody tr th:only-of-type {\n",
       "        vertical-align: middle;\n",
       "    }\n",
       "\n",
       "    .dataframe tbody tr th {\n",
       "        vertical-align: top;\n",
       "    }\n",
       "\n",
       "    .dataframe thead th {\n",
       "        text-align: right;\n",
       "    }\n",
       "</style>\n",
       "<table border=\"1\" class=\"dataframe\">\n",
       "  <thead>\n",
       "    <tr style=\"text-align: right;\">\n",
       "      <th></th>\n",
       "      <th>ifa</th>\n",
       "      <th>platform</th>\n",
       "      <th>first_seen</th>\n",
       "      <th>last_seen</th>\n",
       "      <th>num_days</th>\n",
       "      <th>brq</th>\n",
       "      <th>brq_engagement</th>\n",
       "      <th>gender</th>\n",
       "      <th>distinct_app</th>\n",
       "      <th>skewness_female</th>\n",
       "      <th>...</th>\n",
       "      <th>dev_cat_iab9_23</th>\n",
       "      <th>dev_cat_iab9_30</th>\n",
       "      <th>dev_cat_books</th>\n",
       "      <th>dev_cat_finance</th>\n",
       "      <th>dev_cat_games</th>\n",
       "      <th>dev_cat_lifestyle</th>\n",
       "      <th>dev_cat_navigation</th>\n",
       "      <th>dev_cat_productivity</th>\n",
       "      <th>dev_cat_reference</th>\n",
       "      <th>dev_cat_utilities</th>\n",
       "    </tr>\n",
       "  </thead>\n",
       "  <tbody>\n",
       "    <tr>\n",
       "      <th>0</th>\n",
       "      <td>bf648e9f9bbe18fe6125713360be1e34dfa544b4fd91c8...</td>\n",
       "      <td>ANDROID</td>\n",
       "      <td>2020-01-02 16:07:14</td>\n",
       "      <td>2020-03-07 13:51:43</td>\n",
       "      <td>13.0</td>\n",
       "      <td>54</td>\n",
       "      <td>4.15385</td>\n",
       "      <td>1.0</td>\n",
       "      <td>8.0</td>\n",
       "      <td>0.0</td>\n",
       "      <td>...</td>\n",
       "      <td>0.0</td>\n",
       "      <td>0.071429</td>\n",
       "      <td>0.0</td>\n",
       "      <td>0.0</td>\n",
       "      <td>0.071429</td>\n",
       "      <td>0.153061</td>\n",
       "      <td>0.0</td>\n",
       "      <td>0.081633</td>\n",
       "      <td>0.0</td>\n",
       "      <td>0.112245</td>\n",
       "    </tr>\n",
       "    <tr>\n",
       "      <th>1</th>\n",
       "      <td>c7317fe8366d24119d193d4c7ce5b5c9762ab70015171d...</td>\n",
       "      <td>ANDROID</td>\n",
       "      <td>2019-03-01 12:45:55</td>\n",
       "      <td>2020-01-17 17:51:51</td>\n",
       "      <td>130.0</td>\n",
       "      <td>3571</td>\n",
       "      <td>27.46923</td>\n",
       "      <td>1.0</td>\n",
       "      <td>29.0</td>\n",
       "      <td>0.0</td>\n",
       "      <td>...</td>\n",
       "      <td>0.0</td>\n",
       "      <td>0.331195</td>\n",
       "      <td>0.0</td>\n",
       "      <td>0.0</td>\n",
       "      <td>0.257537</td>\n",
       "      <td>0.000000</td>\n",
       "      <td>0.0</td>\n",
       "      <td>0.001604</td>\n",
       "      <td>0.0</td>\n",
       "      <td>0.001710</td>\n",
       "    </tr>\n",
       "  </tbody>\n",
       "</table>\n",
       "<p>2 rows × 43 columns</p>\n",
       "</div>"
      ],
      "text/plain": [
       "                                                 ifa platform  \\\n",
       "0  bf648e9f9bbe18fe6125713360be1e34dfa544b4fd91c8...  ANDROID   \n",
       "1  c7317fe8366d24119d193d4c7ce5b5c9762ab70015171d...  ANDROID   \n",
       "\n",
       "            first_seen            last_seen  num_days   brq  brq_engagement  \\\n",
       "0  2020-01-02 16:07:14  2020-03-07 13:51:43      13.0    54         4.15385   \n",
       "1  2019-03-01 12:45:55  2020-01-17 17:51:51     130.0  3571        27.46923   \n",
       "\n",
       "   gender  distinct_app  skewness_female  ...  dev_cat_iab9_23  \\\n",
       "0     1.0           8.0              0.0  ...              0.0   \n",
       "1     1.0          29.0              0.0  ...              0.0   \n",
       "\n",
       "   dev_cat_iab9_30  dev_cat_books  dev_cat_finance dev_cat_games  \\\n",
       "0         0.071429            0.0              0.0      0.071429   \n",
       "1         0.331195            0.0              0.0      0.257537   \n",
       "\n",
       "   dev_cat_lifestyle  dev_cat_navigation  dev_cat_productivity  \\\n",
       "0           0.153061                 0.0              0.081633   \n",
       "1           0.000000                 0.0              0.001604   \n",
       "\n",
       "   dev_cat_reference  dev_cat_utilities  \n",
       "0                0.0           0.112245  \n",
       "1                0.0           0.001710  \n",
       "\n",
       "[2 rows x 43 columns]"
      ]
     },
     "execution_count": 2,
     "metadata": {},
     "output_type": "execute_result"
    }
   ],
   "source": [
    "train = pd.read_csv(os.path.join(filepath, 'train_data.csv'))\n",
    "train.head(2)"
   ]
  },
  {
   "cell_type": "code",
   "execution_count": 3,
   "metadata": {},
   "outputs": [
    {
     "name": "stdout",
     "output_type": "stream",
     "text": [
      "Train Dataset - Shape:  (230263, 43)\n",
      "--------------------------------------------------------------\n"
     ]
    },
    {
     "data": {
      "text/html": [
       "<div>\n",
       "<style scoped>\n",
       "    .dataframe tbody tr th:only-of-type {\n",
       "        vertical-align: middle;\n",
       "    }\n",
       "\n",
       "    .dataframe tbody tr th {\n",
       "        vertical-align: top;\n",
       "    }\n",
       "\n",
       "    .dataframe thead th {\n",
       "        text-align: right;\n",
       "    }\n",
       "</style>\n",
       "<table border=\"1\" class=\"dataframe\">\n",
       "  <thead>\n",
       "    <tr style=\"text-align: right;\">\n",
       "      <th></th>\n",
       "      <th>num_days</th>\n",
       "      <th>brq</th>\n",
       "      <th>brq_engagement</th>\n",
       "      <th>gender</th>\n",
       "      <th>distinct_app</th>\n",
       "      <th>skewness_female</th>\n",
       "      <th>skewness_male</th>\n",
       "      <th>daypart_home</th>\n",
       "      <th>daypart_other</th>\n",
       "      <th>daypart_work</th>\n",
       "      <th>...</th>\n",
       "      <th>dev_cat_iab9_23</th>\n",
       "      <th>dev_cat_iab9_30</th>\n",
       "      <th>dev_cat_books</th>\n",
       "      <th>dev_cat_finance</th>\n",
       "      <th>dev_cat_games</th>\n",
       "      <th>dev_cat_lifestyle</th>\n",
       "      <th>dev_cat_navigation</th>\n",
       "      <th>dev_cat_productivity</th>\n",
       "      <th>dev_cat_reference</th>\n",
       "      <th>dev_cat_utilities</th>\n",
       "    </tr>\n",
       "  </thead>\n",
       "  <tbody>\n",
       "    <tr>\n",
       "      <th>count</th>\n",
       "      <td>230263.000000</td>\n",
       "      <td>230263.000000</td>\n",
       "      <td>230263.000000</td>\n",
       "      <td>230263.000000</td>\n",
       "      <td>229188.000000</td>\n",
       "      <td>230263.000000</td>\n",
       "      <td>230263.000000</td>\n",
       "      <td>230263.000000</td>\n",
       "      <td>230263.000000</td>\n",
       "      <td>230263.000000</td>\n",
       "      <td>...</td>\n",
       "      <td>230031.000000</td>\n",
       "      <td>230031.000000</td>\n",
       "      <td>230031.000000</td>\n",
       "      <td>230031.000000</td>\n",
       "      <td>230031.000000</td>\n",
       "      <td>230031.000000</td>\n",
       "      <td>230031.000000</td>\n",
       "      <td>230031.000000</td>\n",
       "      <td>230031.000000</td>\n",
       "      <td>230031.000000</td>\n",
       "    </tr>\n",
       "    <tr>\n",
       "      <th>mean</th>\n",
       "      <td>110.296487</td>\n",
       "      <td>3691.911506</td>\n",
       "      <td>29.784212</td>\n",
       "      <td>0.869428</td>\n",
       "      <td>10.070161</td>\n",
       "      <td>0.001956</td>\n",
       "      <td>0.327670</td>\n",
       "      <td>0.531883</td>\n",
       "      <td>0.115616</td>\n",
       "      <td>0.352501</td>\n",
       "      <td>...</td>\n",
       "      <td>0.044734</td>\n",
       "      <td>0.140911</td>\n",
       "      <td>0.001541</td>\n",
       "      <td>0.000344</td>\n",
       "      <td>0.054793</td>\n",
       "      <td>0.008390</td>\n",
       "      <td>0.000093</td>\n",
       "      <td>0.066534</td>\n",
       "      <td>0.000627</td>\n",
       "      <td>0.109963</td>\n",
       "    </tr>\n",
       "    <tr>\n",
       "      <th>std</th>\n",
       "      <td>119.764555</td>\n",
       "      <td>13482.677822</td>\n",
       "      <td>89.977826</td>\n",
       "      <td>0.336933</td>\n",
       "      <td>10.032108</td>\n",
       "      <td>0.033722</td>\n",
       "      <td>0.338309</td>\n",
       "      <td>0.215459</td>\n",
       "      <td>0.121270</td>\n",
       "      <td>0.203546</td>\n",
       "      <td>...</td>\n",
       "      <td>0.096349</td>\n",
       "      <td>0.149885</td>\n",
       "      <td>0.014747</td>\n",
       "      <td>0.006508</td>\n",
       "      <td>0.069674</td>\n",
       "      <td>0.039699</td>\n",
       "      <td>0.003690</td>\n",
       "      <td>0.092150</td>\n",
       "      <td>0.010457</td>\n",
       "      <td>0.108964</td>\n",
       "    </tr>\n",
       "    <tr>\n",
       "      <th>min</th>\n",
       "      <td>1.000000</td>\n",
       "      <td>1.000000</td>\n",
       "      <td>1.000000</td>\n",
       "      <td>0.000000</td>\n",
       "      <td>1.000000</td>\n",
       "      <td>0.000000</td>\n",
       "      <td>0.000000</td>\n",
       "      <td>0.000000</td>\n",
       "      <td>0.000000</td>\n",
       "      <td>0.000000</td>\n",
       "      <td>...</td>\n",
       "      <td>0.000000</td>\n",
       "      <td>0.000000</td>\n",
       "      <td>0.000000</td>\n",
       "      <td>0.000000</td>\n",
       "      <td>0.000000</td>\n",
       "      <td>0.000000</td>\n",
       "      <td>0.000000</td>\n",
       "      <td>0.000000</td>\n",
       "      <td>0.000000</td>\n",
       "      <td>0.000000</td>\n",
       "    </tr>\n",
       "    <tr>\n",
       "      <th>25%</th>\n",
       "      <td>26.000000</td>\n",
       "      <td>294.000000</td>\n",
       "      <td>7.653850</td>\n",
       "      <td>1.000000</td>\n",
       "      <td>4.000000</td>\n",
       "      <td>0.000000</td>\n",
       "      <td>0.012579</td>\n",
       "      <td>0.403220</td>\n",
       "      <td>0.036880</td>\n",
       "      <td>0.217465</td>\n",
       "      <td>...</td>\n",
       "      <td>0.000000</td>\n",
       "      <td>0.003713</td>\n",
       "      <td>0.000000</td>\n",
       "      <td>0.000000</td>\n",
       "      <td>0.000000</td>\n",
       "      <td>0.000000</td>\n",
       "      <td>0.000000</td>\n",
       "      <td>0.001956</td>\n",
       "      <td>0.000000</td>\n",
       "      <td>0.010063</td>\n",
       "    </tr>\n",
       "    <tr>\n",
       "      <th>50%</th>\n",
       "      <td>71.000000</td>\n",
       "      <td>1027.000000</td>\n",
       "      <td>14.557520</td>\n",
       "      <td>1.000000</td>\n",
       "      <td>7.000000</td>\n",
       "      <td>0.000000</td>\n",
       "      <td>0.192857</td>\n",
       "      <td>0.532260</td>\n",
       "      <td>0.091930</td>\n",
       "      <td>0.336360</td>\n",
       "      <td>...</td>\n",
       "      <td>0.000000</td>\n",
       "      <td>0.089202</td>\n",
       "      <td>0.000000</td>\n",
       "      <td>0.000000</td>\n",
       "      <td>0.021592</td>\n",
       "      <td>0.000000</td>\n",
       "      <td>0.000000</td>\n",
       "      <td>0.021430</td>\n",
       "      <td>0.000000</td>\n",
       "      <td>0.069831</td>\n",
       "    </tr>\n",
       "    <tr>\n",
       "      <th>75%</th>\n",
       "      <td>153.000000</td>\n",
       "      <td>3077.000000</td>\n",
       "      <td>29.308800</td>\n",
       "      <td>1.000000</td>\n",
       "      <td>13.000000</td>\n",
       "      <td>0.000000</td>\n",
       "      <td>0.626305</td>\n",
       "      <td>0.666670</td>\n",
       "      <td>0.153370</td>\n",
       "      <td>0.461540</td>\n",
       "      <td>...</td>\n",
       "      <td>0.029923</td>\n",
       "      <td>0.243440</td>\n",
       "      <td>0.000000</td>\n",
       "      <td>0.000000</td>\n",
       "      <td>0.092938</td>\n",
       "      <td>0.000000</td>\n",
       "      <td>0.000000</td>\n",
       "      <td>0.095770</td>\n",
       "      <td>0.000000</td>\n",
       "      <td>0.205980</td>\n",
       "    </tr>\n",
       "    <tr>\n",
       "      <th>max</th>\n",
       "      <td>1262.000000</td>\n",
       "      <td>996971.000000</td>\n",
       "      <td>9352.333330</td>\n",
       "      <td>1.000000</td>\n",
       "      <td>167.000000</td>\n",
       "      <td>0.999682</td>\n",
       "      <td>1.000000</td>\n",
       "      <td>1.000000</td>\n",
       "      <td>1.000000</td>\n",
       "      <td>1.000000</td>\n",
       "      <td>...</td>\n",
       "      <td>0.666667</td>\n",
       "      <td>1.000000</td>\n",
       "      <td>0.333213</td>\n",
       "      <td>0.250000</td>\n",
       "      <td>0.333333</td>\n",
       "      <td>0.500000</td>\n",
       "      <td>0.460349</td>\n",
       "      <td>0.500000</td>\n",
       "      <td>0.618652</td>\n",
       "      <td>0.500000</td>\n",
       "    </tr>\n",
       "  </tbody>\n",
       "</table>\n",
       "<p>8 rows × 38 columns</p>\n",
       "</div>"
      ],
      "text/plain": [
       "            num_days            brq  brq_engagement         gender  \\\n",
       "count  230263.000000  230263.000000   230263.000000  230263.000000   \n",
       "mean      110.296487    3691.911506       29.784212       0.869428   \n",
       "std       119.764555   13482.677822       89.977826       0.336933   \n",
       "min         1.000000       1.000000        1.000000       0.000000   \n",
       "25%        26.000000     294.000000        7.653850       1.000000   \n",
       "50%        71.000000    1027.000000       14.557520       1.000000   \n",
       "75%       153.000000    3077.000000       29.308800       1.000000   \n",
       "max      1262.000000  996971.000000     9352.333330       1.000000   \n",
       "\n",
       "        distinct_app  skewness_female  skewness_male   daypart_home  \\\n",
       "count  229188.000000    230263.000000  230263.000000  230263.000000   \n",
       "mean       10.070161         0.001956       0.327670       0.531883   \n",
       "std        10.032108         0.033722       0.338309       0.215459   \n",
       "min         1.000000         0.000000       0.000000       0.000000   \n",
       "25%         4.000000         0.000000       0.012579       0.403220   \n",
       "50%         7.000000         0.000000       0.192857       0.532260   \n",
       "75%        13.000000         0.000000       0.626305       0.666670   \n",
       "max       167.000000         0.999682       1.000000       1.000000   \n",
       "\n",
       "       daypart_other   daypart_work  ...  dev_cat_iab9_23  dev_cat_iab9_30  \\\n",
       "count  230263.000000  230263.000000  ...    230031.000000    230031.000000   \n",
       "mean        0.115616       0.352501  ...         0.044734         0.140911   \n",
       "std         0.121270       0.203546  ...         0.096349         0.149885   \n",
       "min         0.000000       0.000000  ...         0.000000         0.000000   \n",
       "25%         0.036880       0.217465  ...         0.000000         0.003713   \n",
       "50%         0.091930       0.336360  ...         0.000000         0.089202   \n",
       "75%         0.153370       0.461540  ...         0.029923         0.243440   \n",
       "max         1.000000       1.000000  ...         0.666667         1.000000   \n",
       "\n",
       "       dev_cat_books  dev_cat_finance  dev_cat_games  dev_cat_lifestyle  \\\n",
       "count  230031.000000    230031.000000  230031.000000      230031.000000   \n",
       "mean        0.001541         0.000344       0.054793           0.008390   \n",
       "std         0.014747         0.006508       0.069674           0.039699   \n",
       "min         0.000000         0.000000       0.000000           0.000000   \n",
       "25%         0.000000         0.000000       0.000000           0.000000   \n",
       "50%         0.000000         0.000000       0.021592           0.000000   \n",
       "75%         0.000000         0.000000       0.092938           0.000000   \n",
       "max         0.333213         0.250000       0.333333           0.500000   \n",
       "\n",
       "       dev_cat_navigation  dev_cat_productivity  dev_cat_reference  \\\n",
       "count       230031.000000         230031.000000      230031.000000   \n",
       "mean             0.000093              0.066534           0.000627   \n",
       "std              0.003690              0.092150           0.010457   \n",
       "min              0.000000              0.000000           0.000000   \n",
       "25%              0.000000              0.001956           0.000000   \n",
       "50%              0.000000              0.021430           0.000000   \n",
       "75%              0.000000              0.095770           0.000000   \n",
       "max              0.460349              0.500000           0.618652   \n",
       "\n",
       "       dev_cat_utilities  \n",
       "count      230031.000000  \n",
       "mean            0.109963  \n",
       "std             0.108964  \n",
       "min             0.000000  \n",
       "25%             0.010063  \n",
       "50%             0.069831  \n",
       "75%             0.205980  \n",
       "max             0.500000  \n",
       "\n",
       "[8 rows x 38 columns]"
      ]
     },
     "execution_count": 3,
     "metadata": {},
     "output_type": "execute_result"
    }
   ],
   "source": [
    "print(\"Train Dataset - Shape: \",train.shape)\n",
    "print(\"--------------------------------------------------------------\")\n",
    "train.describe()"
   ]
  },
  {
   "cell_type": "code",
   "execution_count": 4,
   "metadata": {},
   "outputs": [
    {
     "name": "stdout",
     "output_type": "stream",
     "text": [
      "<class 'pandas.core.frame.DataFrame'>\n",
      "RangeIndex: 230263 entries, 0 to 230262\n",
      "Data columns (total 43 columns):\n",
      " #   Column                Non-Null Count   Dtype  \n",
      "---  ------                --------------   -----  \n",
      " 0   ifa                   230263 non-null  object \n",
      " 1   platform              229625 non-null  object \n",
      " 2   first_seen            230263 non-null  object \n",
      " 3   last_seen             230263 non-null  object \n",
      " 4   num_days              230263 non-null  float64\n",
      " 5   brq                   230263 non-null  int64  \n",
      " 6   brq_engagement        230263 non-null  float64\n",
      " 7   gender                230263 non-null  float64\n",
      " 8   distinct_app          229188 non-null  float64\n",
      " 9   skewness_female       230263 non-null  float64\n",
      " 10  skewness_male         230263 non-null  float64\n",
      " 11  daypart_home          230263 non-null  float64\n",
      " 12  daypart_other         230263 non-null  float64\n",
      " 13  daypart_work          230263 non-null  float64\n",
      " 14  device_category       227598 non-null  object \n",
      " 15  cellular              230218 non-null  float64\n",
      " 16  wifi                  230218 non-null  float64\n",
      " 17  dev_cat_iab1          230031 non-null  float64\n",
      " 18  dev_cat_iab1_1        230031 non-null  float64\n",
      " 19  dev_cat_iab1_6        230031 non-null  float64\n",
      " 20  dev_cat_iab12         230031 non-null  float64\n",
      " 21  dev_cat_iab13         230031 non-null  float64\n",
      " 22  dev_cat_iab14         230031 non-null  float64\n",
      " 23  dev_cat_iab15         230031 non-null  float64\n",
      " 24  dev_cat_iab15_10      230031 non-null  float64\n",
      " 25  dev_cat_iab17         230031 non-null  float64\n",
      " 26  dev_cat_iab19         230031 non-null  float64\n",
      " 27  dev_cat_iab19_29      230031 non-null  float64\n",
      " 28  dev_cat_iab20         230031 non-null  float64\n",
      " 29  dev_cat_iab3          230031 non-null  float64\n",
      " 30  dev_cat_iab5          230031 non-null  float64\n",
      " 31  dev_cat_iab7          230031 non-null  float64\n",
      " 32  dev_cat_iab9          230031 non-null  float64\n",
      " 33  dev_cat_iab9_23       230031 non-null  float64\n",
      " 34  dev_cat_iab9_30       230031 non-null  float64\n",
      " 35  dev_cat_books         230031 non-null  float64\n",
      " 36  dev_cat_finance       230031 non-null  float64\n",
      " 37  dev_cat_games         230031 non-null  float64\n",
      " 38  dev_cat_lifestyle     230031 non-null  float64\n",
      " 39  dev_cat_navigation    230031 non-null  float64\n",
      " 40  dev_cat_productivity  230031 non-null  float64\n",
      " 41  dev_cat_reference     230031 non-null  float64\n",
      " 42  dev_cat_utilities     230031 non-null  float64\n",
      "dtypes: float64(37), int64(1), object(5)\n",
      "memory usage: 75.5+ MB\n"
     ]
    }
   ],
   "source": [
    "train.info()"
   ]
  },
  {
   "cell_type": "code",
   "execution_count": 5,
   "metadata": {},
   "outputs": [
    {
     "name": "stdout",
     "output_type": "stream",
     "text": [
      "Numerical Columns:  Index(['num_days', 'brq', 'brq_engagement', 'distinct_app', 'skewness_female',\n",
      "       'skewness_male', 'daypart_home', 'daypart_other', 'daypart_work',\n",
      "       'cellular', 'wifi', 'dev_cat_iab1', 'dev_cat_iab1_1', 'dev_cat_iab1_6',\n",
      "       'dev_cat_iab12', 'dev_cat_iab13', 'dev_cat_iab14', 'dev_cat_iab15',\n",
      "       'dev_cat_iab15_10', 'dev_cat_iab17', 'dev_cat_iab19',\n",
      "       'dev_cat_iab19_29', 'dev_cat_iab20', 'dev_cat_iab3', 'dev_cat_iab5',\n",
      "       'dev_cat_iab7', 'dev_cat_iab9', 'dev_cat_iab9_23', 'dev_cat_iab9_30',\n",
      "       'dev_cat_books', 'dev_cat_finance', 'dev_cat_games',\n",
      "       'dev_cat_lifestyle', 'dev_cat_navigation', 'dev_cat_productivity',\n",
      "       'dev_cat_reference', 'dev_cat_utilities'],\n",
      "      dtype='object')\n",
      "\n",
      "\n",
      "Categorical Columns: Index(['ifa', 'platform', 'first_seen', 'last_seen', 'device_category'], dtype='object')\n"
     ]
    }
   ],
   "source": [
    "num_cols= train.drop(['gender'], axis=1).select_dtypes('number').columns\n",
    "\n",
    "cat_cols = train.select_dtypes('object').columns\n",
    "\n",
    "print(f'Numerical Columns:  {train[num_cols].columns}')\n",
    "print('\\n')\n",
    "print(f'Categorical Columns: {train[cat_cols].columns}')"
   ]
  },
  {
   "cell_type": "markdown",
   "metadata": {},
   "source": [
    "### Data - Preliminary Observations -\n",
    "- Shape:  (230263, 43)\n",
    "- Numeric - 38 (37 float, 1 int), Categorical - 5\n",
    "- Target Variable - Gender - is categorical - binary - labelled 0/1\n",
    "- first seen & last seen - timestamps - can be used to extract - month/dow/etc. \n",
    "- There are null values that need attention"
   ]
  },
  {
   "cell_type": "code",
   "execution_count": 6,
   "metadata": {},
   "outputs": [],
   "source": [
    "## EDA"
   ]
  },
  {
   "cell_type": "code",
   "execution_count": 7,
   "metadata": {},
   "outputs": [
    {
     "name": "stdout",
     "output_type": "stream",
     "text": [
      "IFA : \n",
      "230263\n",
      "All unique ifa values!\n",
      "-----------------------------------------------\n",
      "Platform - \n",
      "ANDROID    225891\n",
      "IOS          3734\n",
      "Name: platform, dtype: int64\n",
      "-----------------------------------------------\n",
      "Platform-Gender breakdown: \n",
      "platform  gender\n",
      "ANDROID   1.0       196759\n",
      "          0.0        29132\n",
      "IOS       1.0         2907\n",
      "          0.0          827\n",
      "Name: gender, dtype: int64\n",
      "-----------------------------------------------\n",
      "Target Variable - Gender - Breakup : \n",
      "1.0    200197\n",
      "0.0     30066\n",
      "Name: gender, dtype: int64\n",
      "1.0    0.869428\n",
      "0.0    0.130572\n",
      "Name: gender, dtype: float64\n"
     ]
    }
   ],
   "source": [
    "eda = train.copy()\n",
    "print('IFA : ')\n",
    "print(eda['ifa'].nunique())\n",
    "print('All unique ifa values!')\n",
    "print('-----------------------------------------------')\n",
    "print('Platform - ')\n",
    "print(eda['platform'].value_counts())\n",
    "print('-----------------------------------------------')\n",
    "print('Platform-Gender breakdown: ')\n",
    "print(eda.groupby('platform')['gender'].value_counts())\n",
    "print('-----------------------------------------------')\n",
    "print('Target Variable - Gender - Breakup : ')\n",
    "print(eda['gender'].value_counts())\n",
    "print(eda['gender'].value_counts()/len(eda['gender']))"
   ]
  },
  {
   "cell_type": "markdown",
   "metadata": {},
   "source": [
    "## Target Variable - Gender looks quite imbalanced!"
   ]
  },
  {
   "cell_type": "code",
   "execution_count": 8,
   "metadata": {},
   "outputs": [
    {
     "data": {
      "text/plain": [
       "Index(['ifa', 'platform', 'first_seen', 'last_seen', 'num_days', 'brq',\n",
       "       'brq_engagement', 'gender', 'distinct_app', 'skewness_female',\n",
       "       'skewness_male', 'daypart_home', 'daypart_other', 'daypart_work',\n",
       "       'device_category', 'cellular', 'wifi', 'dev_cat_iab1', 'dev_cat_iab1_1',\n",
       "       'dev_cat_iab1_6', 'dev_cat_iab12', 'dev_cat_iab13', 'dev_cat_iab14',\n",
       "       'dev_cat_iab15', 'dev_cat_iab15_10', 'dev_cat_iab17', 'dev_cat_iab19',\n",
       "       'dev_cat_iab19_29', 'dev_cat_iab20', 'dev_cat_iab3', 'dev_cat_iab5',\n",
       "       'dev_cat_iab7', 'dev_cat_iab9', 'dev_cat_iab9_23', 'dev_cat_iab9_30',\n",
       "       'dev_cat_books', 'dev_cat_finance', 'dev_cat_games',\n",
       "       'dev_cat_lifestyle', 'dev_cat_navigation', 'dev_cat_productivity',\n",
       "       'dev_cat_reference', 'dev_cat_utilities'],\n",
       "      dtype='object')"
      ]
     },
     "execution_count": 8,
     "metadata": {},
     "output_type": "execute_result"
    }
   ],
   "source": [
    "eda.columns"
   ]
  },
  {
   "cell_type": "code",
   "execution_count": 9,
   "metadata": {},
   "outputs": [
    {
     "data": {
      "text/plain": [
       "<seaborn.axisgrid.FacetGrid at 0x7fe45f394850>"
      ]
     },
     "execution_count": 9,
     "metadata": {},
     "output_type": "execute_result"
    },
    {
     "data": {
      "image/png": "[encoded data removed]",
      "text/plain": [
       "<Figure size 360x360 with 1 Axes>"
      ]
     },
     "metadata": {
      "needs_background": "light"
     },
     "output_type": "display_data"
    }
   ],
   "source": [
    "sns.catplot(data=eda[['daypart_home', 'daypart_other', 'daypart_work']], orient=\"h\", kind=\"box\")"
   ]
  },
  {
   "cell_type": "code",
   "execution_count": 10,
   "metadata": {},
   "outputs": [
    {
     "data": {
      "text/plain": [
       "<seaborn.axisgrid.FacetGrid at 0x7fe435fddb50>"
      ]
     },
     "execution_count": 10,
     "metadata": {},
     "output_type": "execute_result"
    },
    {
     "data": {
      "image/png": "[encoded data removed]",
      "text/plain": [
       "<Figure size 360x360 with 1 Axes>"
      ]
     },
     "metadata": {
      "needs_background": "light"
     },
     "output_type": "display_data"
    }
   ],
   "source": [
    "g = sns.catplot(data=eda[['skewness_female',\n",
    "       'skewness_male']], orient=\"h\", kind=\"box\")\n",
    "g.set(xscale=\"linear\")"
   ]
  },
  {
   "cell_type": "code",
   "execution_count": 11,
   "metadata": {},
   "outputs": [
    {
     "data": {
      "text/plain": [
       "<seaborn.axisgrid.FacetGrid at 0x7fe43608fcd0>"
      ]
     },
     "execution_count": 11,
     "metadata": {},
     "output_type": "execute_result"
    },
    {
     "data": {
      "image/png": "[encoded data removed]",
      "text/plain": [
       "<Figure size 360x360 with 1 Axes>"
      ]
     },
     "metadata": {
      "needs_background": "light"
     },
     "output_type": "display_data"
    }
   ],
   "source": [
    "g = sns.catplot(data=eda[['dev_cat_iab1', 'dev_cat_iab1_1',\n",
    "       'dev_cat_iab1_6', 'dev_cat_iab12', 'dev_cat_iab13', 'dev_cat_iab14',\n",
    "       'dev_cat_iab15', 'dev_cat_iab15_10', 'dev_cat_iab17', 'dev_cat_iab19',\n",
    "       'dev_cat_iab19_29', 'dev_cat_iab20', 'dev_cat_iab3', 'dev_cat_iab5',\n",
    "       'dev_cat_iab7', 'dev_cat_iab9', 'dev_cat_iab9_23', 'dev_cat_iab9_30',\n",
    "       'dev_cat_books', 'dev_cat_finance', 'dev_cat_games',\n",
    "       'dev_cat_lifestyle', 'dev_cat_navigation', 'dev_cat_productivity',\n",
    "       'dev_cat_reference', 'dev_cat_utilities']], orient=\"h\", kind=\"box\")\n",
    "g.set(xscale=\"log\")"
   ]
  },
  {
   "cell_type": "code",
   "execution_count": 12,
   "metadata": {},
   "outputs": [
    {
     "data": {
      "text/plain": [
       "<seaborn.axisgrid.FacetGrid at 0x7fe437f24550>"
      ]
     },
     "execution_count": 12,
     "metadata": {},
     "output_type": "execute_result"
    },
    {
     "data": {
      "image/png": "[encoded data removed]",
      "text/plain": [
       "<Figure size 360x360 with 1 Axes>"
      ]
     },
     "metadata": {
      "needs_background": "light"
     },
     "output_type": "display_data"
    }
   ],
   "source": [
    "g = sns.catplot(data=eda[['dev_cat_iab1_1',\n",
    "       'dev_cat_iab1_6', 'dev_cat_iab12', 'dev_cat_iab13', 'dev_cat_iab14',\n",
    "       'dev_cat_iab15', 'dev_cat_iab15_10', 'dev_cat_iab17', 'dev_cat_iab19']], orient=\"h\", kind=\"box\")\n",
    "g.set(xscale=\"log\")"
   ]
  },
  {
   "cell_type": "code",
   "execution_count": 13,
   "metadata": {},
   "outputs": [
    {
     "data": {
      "text/plain": [
       "<seaborn.axisgrid.FacetGrid at 0x7fe4466f6650>"
      ]
     },
     "execution_count": 13,
     "metadata": {},
     "output_type": "execute_result"
    },
    {
     "data": {
      "image/png": "[encoded data removed]",
      "text/plain": [
       "<Figure size 412x360 with 1 Axes>"
      ]
     },
     "metadata": {
      "needs_background": "light"
     },
     "output_type": "display_data"
    }
   ],
   "source": [
    "g = sns.catplot(x = 'platform', y = 'brq_engagement', data = eda, hue = 'gender',kind=\"box\")\n",
    "g.set(yscale=\"log\")"
   ]
  },
  {
   "cell_type": "code",
   "execution_count": 14,
   "metadata": {},
   "outputs": [
    {
     "data": {
      "text/plain": [
       "<seaborn.axisgrid.FacetGrid at 0x7fe41647a290>"
      ]
     },
     "execution_count": 14,
     "metadata": {},
     "output_type": "execute_result"
    },
    {
     "data": {
      "image/png": "[encoded data removed]",
      "text/plain": [
       "<Figure size 432x216 with 2 Axes>"
      ]
     },
     "metadata": {
      "needs_background": "light"
     },
     "output_type": "display_data"
    }
   ],
   "source": [
    "g = sns.catplot(x=\"brq\", y=\"gender\", row=\"platform\",\n",
    "                kind=\"box\", orient=\"h\", height=1.5, aspect=4,\n",
    "                data=eda)\n",
    "g.set(xscale=\"log\")"
   ]
  },
  {
   "cell_type": "code",
   "execution_count": null,
   "metadata": {},
   "outputs": [],
   "source": []
  },
  {
   "cell_type": "markdown",
   "metadata": {},
   "source": [
    "## Null Values -"
   ]
  },
  {
   "cell_type": "code",
   "execution_count": 15,
   "metadata": {},
   "outputs": [
    {
     "data": {
      "text/plain": [
       "ifa                        0\n",
       "platform                 638\n",
       "first_seen                 0\n",
       "last_seen                  0\n",
       "num_days                   0\n",
       "brq                        0\n",
       "brq_engagement             0\n",
       "gender                     0\n",
       "distinct_app            1075\n",
       "skewness_female            0\n",
       "skewness_male              0\n",
       "daypart_home               0\n",
       "daypart_other              0\n",
       "daypart_work               0\n",
       "device_category         2665\n",
       "cellular                  45\n",
       "wifi                      45\n",
       "dev_cat_iab1             232\n",
       "dev_cat_iab1_1           232\n",
       "dev_cat_iab1_6           232\n",
       "dev_cat_iab12            232\n",
       "dev_cat_iab13            232\n",
       "dev_cat_iab14            232\n",
       "dev_cat_iab15            232\n",
       "dev_cat_iab15_10         232\n",
       "dev_cat_iab17            232\n",
       "dev_cat_iab19            232\n",
       "dev_cat_iab19_29         232\n",
       "dev_cat_iab20            232\n",
       "dev_cat_iab3             232\n",
       "dev_cat_iab5             232\n",
       "dev_cat_iab7             232\n",
       "dev_cat_iab9             232\n",
       "dev_cat_iab9_23          232\n",
       "dev_cat_iab9_30          232\n",
       "dev_cat_books            232\n",
       "dev_cat_finance          232\n",
       "dev_cat_games            232\n",
       "dev_cat_lifestyle        232\n",
       "dev_cat_navigation       232\n",
       "dev_cat_productivity     232\n",
       "dev_cat_reference        232\n",
       "dev_cat_utilities        232\n",
       "dtype: int64"
      ]
     },
     "execution_count": 15,
     "metadata": {},
     "output_type": "execute_result"
    }
   ],
   "source": [
    "eda.isnull().sum()"
   ]
  },
  {
   "cell_type": "markdown",
   "metadata": {},
   "source": [
    "### 26 columns (dev_cat_iab/lifestyle/prod etc) + cellular/wifi + device_category (categorical - can go with mode) + distinct_app + platform (categorical - can go with mode) "
   ]
  },
  {
   "cell_type": "markdown",
   "metadata": {},
   "source": [
    "Looks like the dev_cat_.. 26 columns which have same number of null values i.e;  232 must be missing in the exact same rows. Let\\'s check that"
   ]
  },
  {
   "cell_type": "code",
   "execution_count": 16,
   "metadata": {},
   "outputs": [
    {
     "data": {
      "text/html": [
       "<div>\n",
       "<style scoped>\n",
       "    .dataframe tbody tr th:only-of-type {\n",
       "        vertical-align: middle;\n",
       "    }\n",
       "\n",
       "    .dataframe tbody tr th {\n",
       "        vertical-align: top;\n",
       "    }\n",
       "\n",
       "    .dataframe thead th {\n",
       "        text-align: right;\n",
       "    }\n",
       "</style>\n",
       "<table border=\"1\" class=\"dataframe\">\n",
       "  <thead>\n",
       "    <tr style=\"text-align: right;\">\n",
       "      <th></th>\n",
       "      <th>first_seen</th>\n",
       "      <th>last_seen</th>\n",
       "      <th>dev_cat_iab1</th>\n",
       "      <th>dev_cat_iab1_1</th>\n",
       "      <th>dev_cat_iab1_6</th>\n",
       "      <th>dev_cat_iab12</th>\n",
       "      <th>dev_cat_iab13</th>\n",
       "      <th>dev_cat_iab14</th>\n",
       "      <th>dev_cat_iab15</th>\n",
       "      <th>dev_cat_iab15_10</th>\n",
       "      <th>...</th>\n",
       "      <th>dev_cat_iab9_23</th>\n",
       "      <th>dev_cat_iab9_30</th>\n",
       "      <th>dev_cat_books</th>\n",
       "      <th>dev_cat_finance</th>\n",
       "      <th>dev_cat_games</th>\n",
       "      <th>dev_cat_lifestyle</th>\n",
       "      <th>dev_cat_navigation</th>\n",
       "      <th>dev_cat_productivity</th>\n",
       "      <th>dev_cat_reference</th>\n",
       "      <th>dev_cat_utilities</th>\n",
       "    </tr>\n",
       "  </thead>\n",
       "  <tbody>\n",
       "    <tr>\n",
       "      <th>170</th>\n",
       "      <td>2020-03-14 11:27:43</td>\n",
       "      <td>2020-03-24 09:55:39</td>\n",
       "      <td>NaN</td>\n",
       "      <td>NaN</td>\n",
       "      <td>NaN</td>\n",
       "      <td>NaN</td>\n",
       "      <td>NaN</td>\n",
       "      <td>NaN</td>\n",
       "      <td>NaN</td>\n",
       "      <td>NaN</td>\n",
       "      <td>...</td>\n",
       "      <td>NaN</td>\n",
       "      <td>NaN</td>\n",
       "      <td>NaN</td>\n",
       "      <td>NaN</td>\n",
       "      <td>NaN</td>\n",
       "      <td>NaN</td>\n",
       "      <td>NaN</td>\n",
       "      <td>NaN</td>\n",
       "      <td>NaN</td>\n",
       "      <td>NaN</td>\n",
       "    </tr>\n",
       "    <tr>\n",
       "      <th>1256</th>\n",
       "      <td>2020-03-13 22:12:47</td>\n",
       "      <td>2020-03-14 09:17:41</td>\n",
       "      <td>NaN</td>\n",
       "      <td>NaN</td>\n",
       "      <td>NaN</td>\n",
       "      <td>NaN</td>\n",
       "      <td>NaN</td>\n",
       "      <td>NaN</td>\n",
       "      <td>NaN</td>\n",
       "      <td>NaN</td>\n",
       "      <td>...</td>\n",
       "      <td>NaN</td>\n",
       "      <td>NaN</td>\n",
       "      <td>NaN</td>\n",
       "      <td>NaN</td>\n",
       "      <td>NaN</td>\n",
       "      <td>NaN</td>\n",
       "      <td>NaN</td>\n",
       "      <td>NaN</td>\n",
       "      <td>NaN</td>\n",
       "      <td>NaN</td>\n",
       "    </tr>\n",
       "    <tr>\n",
       "      <th>1747</th>\n",
       "      <td>2020-02-24 15:24:29</td>\n",
       "      <td>2020-02-24 15:26:53</td>\n",
       "      <td>NaN</td>\n",
       "      <td>NaN</td>\n",
       "      <td>NaN</td>\n",
       "      <td>NaN</td>\n",
       "      <td>NaN</td>\n",
       "      <td>NaN</td>\n",
       "      <td>NaN</td>\n",
       "      <td>NaN</td>\n",
       "      <td>...</td>\n",
       "      <td>NaN</td>\n",
       "      <td>NaN</td>\n",
       "      <td>NaN</td>\n",
       "      <td>NaN</td>\n",
       "      <td>NaN</td>\n",
       "      <td>NaN</td>\n",
       "      <td>NaN</td>\n",
       "      <td>NaN</td>\n",
       "      <td>NaN</td>\n",
       "      <td>NaN</td>\n",
       "    </tr>\n",
       "    <tr>\n",
       "      <th>1891</th>\n",
       "      <td>2020-03-28 05:22:37</td>\n",
       "      <td>2020-03-31 06:34:39</td>\n",
       "      <td>NaN</td>\n",
       "      <td>NaN</td>\n",
       "      <td>NaN</td>\n",
       "      <td>NaN</td>\n",
       "      <td>NaN</td>\n",
       "      <td>NaN</td>\n",
       "      <td>NaN</td>\n",
       "      <td>NaN</td>\n",
       "      <td>...</td>\n",
       "      <td>NaN</td>\n",
       "      <td>NaN</td>\n",
       "      <td>NaN</td>\n",
       "      <td>NaN</td>\n",
       "      <td>NaN</td>\n",
       "      <td>NaN</td>\n",
       "      <td>NaN</td>\n",
       "      <td>NaN</td>\n",
       "      <td>NaN</td>\n",
       "      <td>NaN</td>\n",
       "    </tr>\n",
       "    <tr>\n",
       "      <th>2444</th>\n",
       "      <td>2020-02-29 08:59:31</td>\n",
       "      <td>2020-03-30 05:18:02</td>\n",
       "      <td>NaN</td>\n",
       "      <td>NaN</td>\n",
       "      <td>NaN</td>\n",
       "      <td>NaN</td>\n",
       "      <td>NaN</td>\n",
       "      <td>NaN</td>\n",
       "      <td>NaN</td>\n",
       "      <td>NaN</td>\n",
       "      <td>...</td>\n",
       "      <td>NaN</td>\n",
       "      <td>NaN</td>\n",
       "      <td>NaN</td>\n",
       "      <td>NaN</td>\n",
       "      <td>NaN</td>\n",
       "      <td>NaN</td>\n",
       "      <td>NaN</td>\n",
       "      <td>NaN</td>\n",
       "      <td>NaN</td>\n",
       "      <td>NaN</td>\n",
       "    </tr>\n",
       "    <tr>\n",
       "      <th>...</th>\n",
       "      <td>...</td>\n",
       "      <td>...</td>\n",
       "      <td>...</td>\n",
       "      <td>...</td>\n",
       "      <td>...</td>\n",
       "      <td>...</td>\n",
       "      <td>...</td>\n",
       "      <td>...</td>\n",
       "      <td>...</td>\n",
       "      <td>...</td>\n",
       "      <td>...</td>\n",
       "      <td>...</td>\n",
       "      <td>...</td>\n",
       "      <td>...</td>\n",
       "      <td>...</td>\n",
       "      <td>...</td>\n",
       "      <td>...</td>\n",
       "      <td>...</td>\n",
       "      <td>...</td>\n",
       "      <td>...</td>\n",
       "      <td>...</td>\n",
       "    </tr>\n",
       "    <tr>\n",
       "      <th>224975</th>\n",
       "      <td>2020-02-09 07:50:56</td>\n",
       "      <td>2020-02-09 10:13:07</td>\n",
       "      <td>NaN</td>\n",
       "      <td>NaN</td>\n",
       "      <td>NaN</td>\n",
       "      <td>NaN</td>\n",
       "      <td>NaN</td>\n",
       "      <td>NaN</td>\n",
       "      <td>NaN</td>\n",
       "      <td>NaN</td>\n",
       "      <td>...</td>\n",
       "      <td>NaN</td>\n",
       "      <td>NaN</td>\n",
       "      <td>NaN</td>\n",
       "      <td>NaN</td>\n",
       "      <td>NaN</td>\n",
       "      <td>NaN</td>\n",
       "      <td>NaN</td>\n",
       "      <td>NaN</td>\n",
       "      <td>NaN</td>\n",
       "      <td>NaN</td>\n",
       "    </tr>\n",
       "    <tr>\n",
       "      <th>226287</th>\n",
       "      <td>2020-01-16 13:30:26</td>\n",
       "      <td>2020-01-16 13:30:26</td>\n",
       "      <td>NaN</td>\n",
       "      <td>NaN</td>\n",
       "      <td>NaN</td>\n",
       "      <td>NaN</td>\n",
       "      <td>NaN</td>\n",
       "      <td>NaN</td>\n",
       "      <td>NaN</td>\n",
       "      <td>NaN</td>\n",
       "      <td>...</td>\n",
       "      <td>NaN</td>\n",
       "      <td>NaN</td>\n",
       "      <td>NaN</td>\n",
       "      <td>NaN</td>\n",
       "      <td>NaN</td>\n",
       "      <td>NaN</td>\n",
       "      <td>NaN</td>\n",
       "      <td>NaN</td>\n",
       "      <td>NaN</td>\n",
       "      <td>NaN</td>\n",
       "    </tr>\n",
       "    <tr>\n",
       "      <th>228985</th>\n",
       "      <td>2020-03-10 12:14:53</td>\n",
       "      <td>2020-03-30 06:17:00</td>\n",
       "      <td>NaN</td>\n",
       "      <td>NaN</td>\n",
       "      <td>NaN</td>\n",
       "      <td>NaN</td>\n",
       "      <td>NaN</td>\n",
       "      <td>NaN</td>\n",
       "      <td>NaN</td>\n",
       "      <td>NaN</td>\n",
       "      <td>...</td>\n",
       "      <td>NaN</td>\n",
       "      <td>NaN</td>\n",
       "      <td>NaN</td>\n",
       "      <td>NaN</td>\n",
       "      <td>NaN</td>\n",
       "      <td>NaN</td>\n",
       "      <td>NaN</td>\n",
       "      <td>NaN</td>\n",
       "      <td>NaN</td>\n",
       "      <td>NaN</td>\n",
       "    </tr>\n",
       "    <tr>\n",
       "      <th>229309</th>\n",
       "      <td>2020-02-10 11:51:18</td>\n",
       "      <td>2020-02-17 10:37:57</td>\n",
       "      <td>NaN</td>\n",
       "      <td>NaN</td>\n",
       "      <td>NaN</td>\n",
       "      <td>NaN</td>\n",
       "      <td>NaN</td>\n",
       "      <td>NaN</td>\n",
       "      <td>NaN</td>\n",
       "      <td>NaN</td>\n",
       "      <td>...</td>\n",
       "      <td>NaN</td>\n",
       "      <td>NaN</td>\n",
       "      <td>NaN</td>\n",
       "      <td>NaN</td>\n",
       "      <td>NaN</td>\n",
       "      <td>NaN</td>\n",
       "      <td>NaN</td>\n",
       "      <td>NaN</td>\n",
       "      <td>NaN</td>\n",
       "      <td>NaN</td>\n",
       "    </tr>\n",
       "    <tr>\n",
       "      <th>229590</th>\n",
       "      <td>2020-01-21 18:54:47</td>\n",
       "      <td>2020-01-22 05:53:27</td>\n",
       "      <td>NaN</td>\n",
       "      <td>NaN</td>\n",
       "      <td>NaN</td>\n",
       "      <td>NaN</td>\n",
       "      <td>NaN</td>\n",
       "      <td>NaN</td>\n",
       "      <td>NaN</td>\n",
       "      <td>NaN</td>\n",
       "      <td>...</td>\n",
       "      <td>NaN</td>\n",
       "      <td>NaN</td>\n",
       "      <td>NaN</td>\n",
       "      <td>NaN</td>\n",
       "      <td>NaN</td>\n",
       "      <td>NaN</td>\n",
       "      <td>NaN</td>\n",
       "      <td>NaN</td>\n",
       "      <td>NaN</td>\n",
       "      <td>NaN</td>\n",
       "    </tr>\n",
       "  </tbody>\n",
       "</table>\n",
       "<p>232 rows × 28 columns</p>\n",
       "</div>"
      ],
      "text/plain": [
       "                 first_seen            last_seen  dev_cat_iab1  \\\n",
       "170     2020-03-14 11:27:43  2020-03-24 09:55:39           NaN   \n",
       "1256    2020-03-13 22:12:47  2020-03-14 09:17:41           NaN   \n",
       "1747    2020-02-24 15:24:29  2020-02-24 15:26:53           NaN   \n",
       "1891    2020-03-28 05:22:37  2020-03-31 06:34:39           NaN   \n",
       "2444    2020-02-29 08:59:31  2020-03-30 05:18:02           NaN   \n",
       "...                     ...                  ...           ...   \n",
       "224975  2020-02-09 07:50:56  2020-02-09 10:13:07           NaN   \n",
       "226287  2020-01-16 13:30:26  2020-01-16 13:30:26           NaN   \n",
       "228985  2020-03-10 12:14:53  2020-03-30 06:17:00           NaN   \n",
       "229309  2020-02-10 11:51:18  2020-02-17 10:37:57           NaN   \n",
       "229590  2020-01-21 18:54:47  2020-01-22 05:53:27           NaN   \n",
       "\n",
       "        dev_cat_iab1_1  dev_cat_iab1_6  dev_cat_iab12  dev_cat_iab13  \\\n",
       "170                NaN             NaN            NaN            NaN   \n",
       "1256               NaN             NaN            NaN            NaN   \n",
       "1747               NaN             NaN            NaN            NaN   \n",
       "1891               NaN             NaN            NaN            NaN   \n",
       "2444               NaN             NaN            NaN            NaN   \n",
       "...                ...             ...            ...            ...   \n",
       "224975             NaN             NaN            NaN            NaN   \n",
       "226287             NaN             NaN            NaN            NaN   \n",
       "228985             NaN             NaN            NaN            NaN   \n",
       "229309             NaN             NaN            NaN            NaN   \n",
       "229590             NaN             NaN            NaN            NaN   \n",
       "\n",
       "        dev_cat_iab14  dev_cat_iab15  dev_cat_iab15_10  ...  dev_cat_iab9_23  \\\n",
       "170               NaN            NaN               NaN  ...              NaN   \n",
       "1256              NaN            NaN               NaN  ...              NaN   \n",
       "1747              NaN            NaN               NaN  ...              NaN   \n",
       "1891              NaN            NaN               NaN  ...              NaN   \n",
       "2444              NaN            NaN               NaN  ...              NaN   \n",
       "...               ...            ...               ...  ...              ...   \n",
       "224975            NaN            NaN               NaN  ...              NaN   \n",
       "226287            NaN            NaN               NaN  ...              NaN   \n",
       "228985            NaN            NaN               NaN  ...              NaN   \n",
       "229309            NaN            NaN               NaN  ...              NaN   \n",
       "229590            NaN            NaN               NaN  ...              NaN   \n",
       "\n",
       "        dev_cat_iab9_30  dev_cat_books  dev_cat_finance  dev_cat_games  \\\n",
       "170                 NaN            NaN              NaN            NaN   \n",
       "1256                NaN            NaN              NaN            NaN   \n",
       "1747                NaN            NaN              NaN            NaN   \n",
       "1891                NaN            NaN              NaN            NaN   \n",
       "2444                NaN            NaN              NaN            NaN   \n",
       "...                 ...            ...              ...            ...   \n",
       "224975              NaN            NaN              NaN            NaN   \n",
       "226287              NaN            NaN              NaN            NaN   \n",
       "228985              NaN            NaN              NaN            NaN   \n",
       "229309              NaN            NaN              NaN            NaN   \n",
       "229590              NaN            NaN              NaN            NaN   \n",
       "\n",
       "        dev_cat_lifestyle  dev_cat_navigation  dev_cat_productivity  \\\n",
       "170                   NaN                 NaN                   NaN   \n",
       "1256                  NaN                 NaN                   NaN   \n",
       "1747                  NaN                 NaN                   NaN   \n",
       "1891                  NaN                 NaN                   NaN   \n",
       "2444                  NaN                 NaN                   NaN   \n",
       "...                   ...                 ...                   ...   \n",
       "224975                NaN                 NaN                   NaN   \n",
       "226287                NaN                 NaN                   NaN   \n",
       "228985                NaN                 NaN                   NaN   \n",
       "229309                NaN                 NaN                   NaN   \n",
       "229590                NaN                 NaN                   NaN   \n",
       "\n",
       "        dev_cat_reference  dev_cat_utilities  \n",
       "170                   NaN                NaN  \n",
       "1256                  NaN                NaN  \n",
       "1747                  NaN                NaN  \n",
       "1891                  NaN                NaN  \n",
       "2444                  NaN                NaN  \n",
       "...                   ...                ...  \n",
       "224975                NaN                NaN  \n",
       "226287                NaN                NaN  \n",
       "228985                NaN                NaN  \n",
       "229309                NaN                NaN  \n",
       "229590                NaN                NaN  \n",
       "\n",
       "[232 rows x 28 columns]"
      ]
     },
     "execution_count": 16,
     "metadata": {},
     "output_type": "execute_result"
    }
   ],
   "source": [
    "cols = ['first_seen','last_seen','dev_cat_iab1', 'dev_cat_iab1_1',\n",
    "       'dev_cat_iab1_6', 'dev_cat_iab12', 'dev_cat_iab13', 'dev_cat_iab14',\n",
    "       'dev_cat_iab15', 'dev_cat_iab15_10', 'dev_cat_iab17', 'dev_cat_iab19',\n",
    "       'dev_cat_iab19_29', 'dev_cat_iab20', 'dev_cat_iab3', 'dev_cat_iab5',\n",
    "       'dev_cat_iab7', 'dev_cat_iab9', 'dev_cat_iab9_23', 'dev_cat_iab9_30',\n",
    "       'dev_cat_books', 'dev_cat_finance', 'dev_cat_games',\n",
    "       'dev_cat_lifestyle', 'dev_cat_navigation', 'dev_cat_productivity',\n",
    "       'dev_cat_reference', 'dev_cat_utilities']\n",
    "col_vals = eda[cols]\n",
    "mask = col_vals['dev_cat_iab1'].isnull() \n",
    "col_vals[mask]"
   ]
  },
  {
   "cell_type": "markdown",
   "metadata": {},
   "source": [
    "#### Yes! All columns are missing values in the exact same rows. We can either delete these rows or replace with the closest estimate such as mean/median/mode depending on the distribution of these columns. "
   ]
  },
  {
   "cell_type": "code",
   "execution_count": 17,
   "metadata": {},
   "outputs": [
    {
     "data": {
      "text/plain": [
       "['dev_cat_iab1',\n",
       " 'dev_cat_iab1_1',\n",
       " 'dev_cat_iab1_6',\n",
       " 'dev_cat_iab12',\n",
       " 'dev_cat_iab13',\n",
       " 'dev_cat_iab14',\n",
       " 'dev_cat_iab15',\n",
       " 'dev_cat_iab15_10',\n",
       " 'dev_cat_iab17',\n",
       " 'dev_cat_iab19',\n",
       " 'dev_cat_iab19_29',\n",
       " 'dev_cat_iab20',\n",
       " 'dev_cat_iab3',\n",
       " 'dev_cat_iab5',\n",
       " 'dev_cat_iab7',\n",
       " 'dev_cat_iab9',\n",
       " 'dev_cat_iab9_23',\n",
       " 'dev_cat_iab9_30',\n",
       " 'dev_cat_books',\n",
       " 'dev_cat_finance',\n",
       " 'dev_cat_games',\n",
       " 'dev_cat_lifestyle',\n",
       " 'dev_cat_navigation',\n",
       " 'dev_cat_productivity',\n",
       " 'dev_cat_reference',\n",
       " 'dev_cat_utilities']"
      ]
     },
     "execution_count": 17,
     "metadata": {},
     "output_type": "execute_result"
    }
   ],
   "source": [
    "cols[2:]"
   ]
  },
  {
   "cell_type": "code",
   "execution_count": 18,
   "metadata": {},
   "outputs": [
    {
     "name": "stdout",
     "output_type": "stream",
     "text": [
      "Column : dev_cat_iab1\n"
     ]
    },
    {
     "data": {
      "image/png": "[encoded data removed]",
      "text/plain": [
       "<Figure size 360x360 with 1 Axes>"
      ]
     },
     "metadata": {
      "needs_background": "light"
     },
     "output_type": "display_data"
    },
    {
     "name": "stdout",
     "output_type": "stream",
     "text": [
      "-----------------------------\n",
      "Column : dev_cat_iab1_1\n"
     ]
    },
    {
     "data": {
      "image/png": "[encoded data removed]",
      "text/plain": [
       "<Figure size 360x360 with 1 Axes>"
      ]
     },
     "metadata": {
      "needs_background": "light"
     },
     "output_type": "display_data"
    },
    {
     "name": "stdout",
     "output_type": "stream",
     "text": [
      "-----------------------------\n",
      "Column : dev_cat_iab1_6\n"
     ]
    },
    {
     "data": {
      "image/png": "[encoded data removed]",
      "text/plain": [
       "<Figure size 360x360 with 1 Axes>"
      ]
     },
     "metadata": {
      "needs_background": "light"
     },
     "output_type": "display_data"
    },
    {
     "name": "stdout",
     "output_type": "stream",
     "text": [
      "-----------------------------\n",
      "Column : dev_cat_iab12\n"
     ]
    },
    {
     "data": {
      "image/png": "[encoded data removed]",
      "text/plain": [
       "<Figure size 360x360 with 1 Axes>"
      ]
     },
     "metadata": {
      "needs_background": "light"
     },
     "output_type": "display_data"
    },
    {
     "name": "stdout",
     "output_type": "stream",
     "text": [
      "-----------------------------\n",
      "Column : dev_cat_iab13\n"
     ]
    },
    {
     "data": {
      "image/png": "[encoded data removed]",
      "text/plain": [
       "<Figure size 360x360 with 1 Axes>"
      ]
     },
     "metadata": {
      "needs_background": "light"
     },
     "output_type": "display_data"
    },
    {
     "name": "stdout",
     "output_type": "stream",
     "text": [
      "-----------------------------\n",
      "Column : dev_cat_iab14\n"
     ]
    },
    {
     "data": {
      "image/png": "[encoded data removed]",
      "text/plain": [
       "<Figure size 360x360 with 1 Axes>"
      ]
     },
     "metadata": {
      "needs_background": "light"
     },
     "output_type": "display_data"
    },
    {
     "name": "stdout",
     "output_type": "stream",
     "text": [
      "-----------------------------\n",
      "Column : dev_cat_iab15\n"
     ]
    },
    {
     "data": {
      "image/png": "[encoded data removed]",
      "text/plain": [
       "<Figure size 360x360 with 1 Axes>"
      ]
     },
     "metadata": {
      "needs_background": "light"
     },
     "output_type": "display_data"
    },
    {
     "name": "stdout",
     "output_type": "stream",
     "text": [
      "-----------------------------\n",
      "Column : dev_cat_iab15_10\n"
     ]
    },
    {
     "data": {
      "image/png": "[encoded data removed]",
      "text/plain": [
       "<Figure size 360x360 with 1 Axes>"
      ]
     },
     "metadata": {
      "needs_background": "light"
     },
     "output_type": "display_data"
    },
    {
     "name": "stdout",
     "output_type": "stream",
     "text": [
      "-----------------------------\n",
      "Column : dev_cat_iab17\n"
     ]
    },
    {
     "data": {
      "image/png": "[encoded data removed]",
      "text/plain": [
       "<Figure size 360x360 with 1 Axes>"
      ]
     },
     "metadata": {
      "needs_background": "light"
     },
     "output_type": "display_data"
    },
    {
     "name": "stdout",
     "output_type": "stream",
     "text": [
      "-----------------------------\n",
      "Column : dev_cat_iab19\n"
     ]
    },
    {
     "data": {
      "image/png": "[encoded data removed]",
      "text/plain": [
       "<Figure size 360x360 with 1 Axes>"
      ]
     },
     "metadata": {
      "needs_background": "light"
     },
     "output_type": "display_data"
    },
    {
     "name": "stdout",
     "output_type": "stream",
     "text": [
      "-----------------------------\n",
      "Column : dev_cat_iab19_29\n"
     ]
    },
    {
     "data": {
      "image/png": "[encoded data removed]",
      "text/plain": [
       "<Figure size 360x360 with 1 Axes>"
      ]
     },
     "metadata": {
      "needs_background": "light"
     },
     "output_type": "display_data"
    },
    {
     "name": "stdout",
     "output_type": "stream",
     "text": [
      "-----------------------------\n",
      "Column : dev_cat_iab20\n"
     ]
    },
    {
     "data": {
      "image/png": "[encoded data removed]",
      "text/plain": [
       "<Figure size 360x360 with 1 Axes>"
      ]
     },
     "metadata": {
      "needs_background": "light"
     },
     "output_type": "display_data"
    },
    {
     "name": "stdout",
     "output_type": "stream",
     "text": [
      "-----------------------------\n",
      "Column : dev_cat_iab3\n"
     ]
    },
    {
     "data": {
      "image/png": "[encoded data removed]",
      "text/plain": [
       "<Figure size 360x360 with 1 Axes>"
      ]
     },
     "metadata": {
      "needs_background": "light"
     },
     "output_type": "display_data"
    },
    {
     "name": "stdout",
     "output_type": "stream",
     "text": [
      "-----------------------------\n",
      "Column : dev_cat_iab5\n"
     ]
    },
    {
     "data": {
      "image/png": "[encoded data removed]",
      "text/plain": [
       "<Figure size 360x360 with 1 Axes>"
      ]
     },
     "metadata": {
      "needs_background": "light"
     },
     "output_type": "display_data"
    },
    {
     "name": "stdout",
     "output_type": "stream",
     "text": [
      "-----------------------------\n",
      "Column : dev_cat_iab7\n"
     ]
    },
    {
     "data": {
      "image/png": "[encoded data removed]",
      "text/plain": [
       "<Figure size 360x360 with 1 Axes>"
      ]
     },
     "metadata": {
      "needs_background": "light"
     },
     "output_type": "display_data"
    },
    {
     "name": "stdout",
     "output_type": "stream",
     "text": [
      "-----------------------------\n",
      "Column : dev_cat_iab9\n"
     ]
    },
    {
     "data": {
      "image/png": "[encoded data removed]",
      "text/plain": [
       "<Figure size 360x360 with 1 Axes>"
      ]
     },
     "metadata": {
      "needs_background": "light"
     },
     "output_type": "display_data"
    },
    {
     "name": "stdout",
     "output_type": "stream",
     "text": [
      "-----------------------------\n",
      "Column : dev_cat_iab9_23\n"
     ]
    },
    {
     "data": {
      "image/png": "[encoded data removed]",
      "text/plain": [
       "<Figure size 360x360 with 1 Axes>"
      ]
     },
     "metadata": {
      "needs_background": "light"
     },
     "output_type": "display_data"
    },
    {
     "name": "stdout",
     "output_type": "stream",
     "text": [
      "-----------------------------\n",
      "Column : dev_cat_iab9_30\n"
     ]
    },
    {
     "data": {
      "image/png": "[encoded data removed]",
      "text/plain": [
       "<Figure size 360x360 with 1 Axes>"
      ]
     },
     "metadata": {
      "needs_background": "light"
     },
     "output_type": "display_data"
    },
    {
     "name": "stdout",
     "output_type": "stream",
     "text": [
      "-----------------------------\n",
      "Column : dev_cat_books\n"
     ]
    },
    {
     "data": {
      "image/png": "[encoded data removed]",
      "text/plain": [
       "<Figure size 360x360 with 1 Axes>"
      ]
     },
     "metadata": {
      "needs_background": "light"
     },
     "output_type": "display_data"
    },
    {
     "name": "stdout",
     "output_type": "stream",
     "text": [
      "-----------------------------\n",
      "Column : dev_cat_finance\n"
     ]
    },
    {
     "data": {
      "image/png": "[encoded data removed]",
      "text/plain": [
       "<Figure size 360x360 with 1 Axes>"
      ]
     },
     "metadata": {
      "needs_background": "light"
     },
     "output_type": "display_data"
    },
    {
     "name": "stdout",
     "output_type": "stream",
     "text": [
      "-----------------------------\n",
      "Column : dev_cat_games\n"
     ]
    },
    {
     "data": {
      "image/png": "[encoded data removed]",
      "text/plain": [
       "<Figure size 360x360 with 1 Axes>"
      ]
     },
     "metadata": {
      "needs_background": "light"
     },
     "output_type": "display_data"
    },
    {
     "name": "stdout",
     "output_type": "stream",
     "text": [
      "-----------------------------\n",
      "Column : dev_cat_lifestyle\n"
     ]
    },
    {
     "data": {
      "image/png": "[encoded data removed]",
      "text/plain": [
       "<Figure size 360x360 with 1 Axes>"
      ]
     },
     "metadata": {
      "needs_background": "light"
     },
     "output_type": "display_data"
    },
    {
     "name": "stdout",
     "output_type": "stream",
     "text": [
      "-----------------------------\n",
      "Column : dev_cat_navigation\n"
     ]
    },
    {
     "data": {
      "image/png": "[encoded data removed]",
      "text/plain": [
       "<Figure size 360x360 with 1 Axes>"
      ]
     },
     "metadata": {
      "needs_background": "light"
     },
     "output_type": "display_data"
    },
    {
     "name": "stdout",
     "output_type": "stream",
     "text": [
      "-----------------------------\n",
      "Column : dev_cat_productivity\n"
     ]
    },
    {
     "data": {
      "image/png": "[encoded data removed]",
      "text/plain": [
       "<Figure size 360x360 with 1 Axes>"
      ]
     },
     "metadata": {
      "needs_background": "light"
     },
     "output_type": "display_data"
    },
    {
     "name": "stdout",
     "output_type": "stream",
     "text": [
      "-----------------------------\n",
      "Column : dev_cat_reference\n"
     ]
    },
    {
     "data": {
      "image/png": "[encoded data removed]",
      "text/plain": [
       "<Figure size 360x360 with 1 Axes>"
      ]
     },
     "metadata": {
      "needs_background": "light"
     },
     "output_type": "display_data"
    },
    {
     "name": "stdout",
     "output_type": "stream",
     "text": [
      "-----------------------------\n",
      "Column : dev_cat_utilities\n"
     ]
    },
    {
     "data": {
      "image/png": "[encoded data removed]",
      "text/plain": [
       "<Figure size 360x360 with 1 Axes>"
      ]
     },
     "metadata": {
      "needs_background": "light"
     },
     "output_type": "display_data"
    },
    {
     "name": "stdout",
     "output_type": "stream",
     "text": [
      "-----------------------------\n"
     ]
    }
   ],
   "source": [
    "nrows = 2\n",
    "ncols = 13\n",
    "#fig, axes = plt.subplots(nrows,ncols,figsize=(13,5))\n",
    "\n",
    "#for name, ax in zip(cols[2:], axes.flatten()):\n",
    "#    sns.displot(eda[name], ax=ax, kde = True)\n",
    "    \n",
    "#fig.tight_layout()\n",
    "\n",
    "for i in cols[2:]:\n",
    "    print('Column :',i)\n",
    "    sns.displot(eda[i], kde = True)\n",
    "    plt.show()\n",
    "    print('-----------------------------')\n"
   ]
  },
  {
   "cell_type": "code",
   "execution_count": 19,
   "metadata": {},
   "outputs": [],
   "source": [
    "# None looks symmetrical\n",
    "# Impute using medians\n",
    "for col_name in cols[2:]:\n",
    "    eda[col_name] = eda[col_name].fillna(eda[col_name].median())"
   ]
  },
  {
   "cell_type": "code",
   "execution_count": 20,
   "metadata": {},
   "outputs": [
    {
     "data": {
      "text/html": [
       "<div>\n",
       "<style scoped>\n",
       "    .dataframe tbody tr th:only-of-type {\n",
       "        vertical-align: middle;\n",
       "    }\n",
       "\n",
       "    .dataframe tbody tr th {\n",
       "        vertical-align: top;\n",
       "    }\n",
       "\n",
       "    .dataframe thead th {\n",
       "        text-align: right;\n",
       "    }\n",
       "</style>\n",
       "<table border=\"1\" class=\"dataframe\">\n",
       "  <thead>\n",
       "    <tr style=\"text-align: right;\">\n",
       "      <th></th>\n",
       "      <th>num_days</th>\n",
       "      <th>brq</th>\n",
       "      <th>brq_engagement</th>\n",
       "      <th>gender</th>\n",
       "      <th>distinct_app</th>\n",
       "      <th>skewness_female</th>\n",
       "      <th>skewness_male</th>\n",
       "      <th>daypart_home</th>\n",
       "      <th>daypart_other</th>\n",
       "      <th>daypart_work</th>\n",
       "      <th>...</th>\n",
       "      <th>dev_cat_iab9_23</th>\n",
       "      <th>dev_cat_iab9_30</th>\n",
       "      <th>dev_cat_books</th>\n",
       "      <th>dev_cat_finance</th>\n",
       "      <th>dev_cat_games</th>\n",
       "      <th>dev_cat_lifestyle</th>\n",
       "      <th>dev_cat_navigation</th>\n",
       "      <th>dev_cat_productivity</th>\n",
       "      <th>dev_cat_reference</th>\n",
       "      <th>dev_cat_utilities</th>\n",
       "    </tr>\n",
       "  </thead>\n",
       "  <tbody>\n",
       "    <tr>\n",
       "      <th>count</th>\n",
       "      <td>230263.000000</td>\n",
       "      <td>230263.000000</td>\n",
       "      <td>230263.000000</td>\n",
       "      <td>230263.000000</td>\n",
       "      <td>229188.000000</td>\n",
       "      <td>230263.000000</td>\n",
       "      <td>230263.000000</td>\n",
       "      <td>230263.000000</td>\n",
       "      <td>230263.000000</td>\n",
       "      <td>230263.000000</td>\n",
       "      <td>...</td>\n",
       "      <td>230263.000000</td>\n",
       "      <td>230263.000000</td>\n",
       "      <td>230263.000000</td>\n",
       "      <td>230263.000000</td>\n",
       "      <td>230263.000000</td>\n",
       "      <td>230263.000000</td>\n",
       "      <td>230263.000000</td>\n",
       "      <td>230263.000000</td>\n",
       "      <td>230263.000000</td>\n",
       "      <td>230263.000000</td>\n",
       "    </tr>\n",
       "    <tr>\n",
       "      <th>mean</th>\n",
       "      <td>110.296487</td>\n",
       "      <td>3691.911506</td>\n",
       "      <td>29.784212</td>\n",
       "      <td>0.869428</td>\n",
       "      <td>10.070161</td>\n",
       "      <td>0.001956</td>\n",
       "      <td>0.327670</td>\n",
       "      <td>0.531883</td>\n",
       "      <td>0.115616</td>\n",
       "      <td>0.352501</td>\n",
       "      <td>...</td>\n",
       "      <td>0.044689</td>\n",
       "      <td>0.140859</td>\n",
       "      <td>0.001539</td>\n",
       "      <td>0.000343</td>\n",
       "      <td>0.054759</td>\n",
       "      <td>0.008382</td>\n",
       "      <td>0.000093</td>\n",
       "      <td>0.066488</td>\n",
       "      <td>0.000626</td>\n",
       "      <td>0.109923</td>\n",
       "    </tr>\n",
       "    <tr>\n",
       "      <th>std</th>\n",
       "      <td>119.764555</td>\n",
       "      <td>13482.677822</td>\n",
       "      <td>89.977826</td>\n",
       "      <td>0.336933</td>\n",
       "      <td>10.032108</td>\n",
       "      <td>0.033722</td>\n",
       "      <td>0.338309</td>\n",
       "      <td>0.215459</td>\n",
       "      <td>0.121270</td>\n",
       "      <td>0.203546</td>\n",
       "      <td>...</td>\n",
       "      <td>0.096311</td>\n",
       "      <td>0.149819</td>\n",
       "      <td>0.014740</td>\n",
       "      <td>0.006505</td>\n",
       "      <td>0.069647</td>\n",
       "      <td>0.039680</td>\n",
       "      <td>0.003688</td>\n",
       "      <td>0.092115</td>\n",
       "      <td>0.010452</td>\n",
       "      <td>0.108917</td>\n",
       "    </tr>\n",
       "    <tr>\n",
       "      <th>min</th>\n",
       "      <td>1.000000</td>\n",
       "      <td>1.000000</td>\n",
       "      <td>1.000000</td>\n",
       "      <td>0.000000</td>\n",
       "      <td>1.000000</td>\n",
       "      <td>0.000000</td>\n",
       "      <td>0.000000</td>\n",
       "      <td>0.000000</td>\n",
       "      <td>0.000000</td>\n",
       "      <td>0.000000</td>\n",
       "      <td>...</td>\n",
       "      <td>0.000000</td>\n",
       "      <td>0.000000</td>\n",
       "      <td>0.000000</td>\n",
       "      <td>0.000000</td>\n",
       "      <td>0.000000</td>\n",
       "      <td>0.000000</td>\n",
       "      <td>0.000000</td>\n",
       "      <td>0.000000</td>\n",
       "      <td>0.000000</td>\n",
       "      <td>0.000000</td>\n",
       "    </tr>\n",
       "    <tr>\n",
       "      <th>25%</th>\n",
       "      <td>26.000000</td>\n",
       "      <td>294.000000</td>\n",
       "      <td>7.653850</td>\n",
       "      <td>1.000000</td>\n",
       "      <td>4.000000</td>\n",
       "      <td>0.000000</td>\n",
       "      <td>0.012579</td>\n",
       "      <td>0.403220</td>\n",
       "      <td>0.036880</td>\n",
       "      <td>0.217465</td>\n",
       "      <td>...</td>\n",
       "      <td>0.000000</td>\n",
       "      <td>0.003740</td>\n",
       "      <td>0.000000</td>\n",
       "      <td>0.000000</td>\n",
       "      <td>0.000000</td>\n",
       "      <td>0.000000</td>\n",
       "      <td>0.000000</td>\n",
       "      <td>0.001965</td>\n",
       "      <td>0.000000</td>\n",
       "      <td>0.010094</td>\n",
       "    </tr>\n",
       "    <tr>\n",
       "      <th>50%</th>\n",
       "      <td>71.000000</td>\n",
       "      <td>1027.000000</td>\n",
       "      <td>14.557520</td>\n",
       "      <td>1.000000</td>\n",
       "      <td>7.000000</td>\n",
       "      <td>0.000000</td>\n",
       "      <td>0.192857</td>\n",
       "      <td>0.532260</td>\n",
       "      <td>0.091930</td>\n",
       "      <td>0.336360</td>\n",
       "      <td>...</td>\n",
       "      <td>0.000000</td>\n",
       "      <td>0.089202</td>\n",
       "      <td>0.000000</td>\n",
       "      <td>0.000000</td>\n",
       "      <td>0.021592</td>\n",
       "      <td>0.000000</td>\n",
       "      <td>0.000000</td>\n",
       "      <td>0.021430</td>\n",
       "      <td>0.000000</td>\n",
       "      <td>0.069831</td>\n",
       "    </tr>\n",
       "    <tr>\n",
       "      <th>75%</th>\n",
       "      <td>153.000000</td>\n",
       "      <td>3077.000000</td>\n",
       "      <td>29.308800</td>\n",
       "      <td>1.000000</td>\n",
       "      <td>13.000000</td>\n",
       "      <td>0.000000</td>\n",
       "      <td>0.626305</td>\n",
       "      <td>0.666670</td>\n",
       "      <td>0.153370</td>\n",
       "      <td>0.461540</td>\n",
       "      <td>...</td>\n",
       "      <td>0.029818</td>\n",
       "      <td>0.243240</td>\n",
       "      <td>0.000000</td>\n",
       "      <td>0.000000</td>\n",
       "      <td>0.092800</td>\n",
       "      <td>0.000000</td>\n",
       "      <td>0.000000</td>\n",
       "      <td>0.095670</td>\n",
       "      <td>0.000000</td>\n",
       "      <td>0.205828</td>\n",
       "    </tr>\n",
       "    <tr>\n",
       "      <th>max</th>\n",
       "      <td>1262.000000</td>\n",
       "      <td>996971.000000</td>\n",
       "      <td>9352.333330</td>\n",
       "      <td>1.000000</td>\n",
       "      <td>167.000000</td>\n",
       "      <td>0.999682</td>\n",
       "      <td>1.000000</td>\n",
       "      <td>1.000000</td>\n",
       "      <td>1.000000</td>\n",
       "      <td>1.000000</td>\n",
       "      <td>...</td>\n",
       "      <td>0.666667</td>\n",
       "      <td>1.000000</td>\n",
       "      <td>0.333213</td>\n",
       "      <td>0.250000</td>\n",
       "      <td>0.333333</td>\n",
       "      <td>0.500000</td>\n",
       "      <td>0.460349</td>\n",
       "      <td>0.500000</td>\n",
       "      <td>0.618652</td>\n",
       "      <td>0.500000</td>\n",
       "    </tr>\n",
       "  </tbody>\n",
       "</table>\n",
       "<p>8 rows × 38 columns</p>\n",
       "</div>"
      ],
      "text/plain": [
       "            num_days            brq  brq_engagement         gender  \\\n",
       "count  230263.000000  230263.000000   230263.000000  230263.000000   \n",
       "mean      110.296487    3691.911506       29.784212       0.869428   \n",
       "std       119.764555   13482.677822       89.977826       0.336933   \n",
       "min         1.000000       1.000000        1.000000       0.000000   \n",
       "25%        26.000000     294.000000        7.653850       1.000000   \n",
       "50%        71.000000    1027.000000       14.557520       1.000000   \n",
       "75%       153.000000    3077.000000       29.308800       1.000000   \n",
       "max      1262.000000  996971.000000     9352.333330       1.000000   \n",
       "\n",
       "        distinct_app  skewness_female  skewness_male   daypart_home  \\\n",
       "count  229188.000000    230263.000000  230263.000000  230263.000000   \n",
       "mean       10.070161         0.001956       0.327670       0.531883   \n",
       "std        10.032108         0.033722       0.338309       0.215459   \n",
       "min         1.000000         0.000000       0.000000       0.000000   \n",
       "25%         4.000000         0.000000       0.012579       0.403220   \n",
       "50%         7.000000         0.000000       0.192857       0.532260   \n",
       "75%        13.000000         0.000000       0.626305       0.666670   \n",
       "max       167.000000         0.999682       1.000000       1.000000   \n",
       "\n",
       "       daypart_other   daypart_work  ...  dev_cat_iab9_23  dev_cat_iab9_30  \\\n",
       "count  230263.000000  230263.000000  ...    230263.000000    230263.000000   \n",
       "mean        0.115616       0.352501  ...         0.044689         0.140859   \n",
       "std         0.121270       0.203546  ...         0.096311         0.149819   \n",
       "min         0.000000       0.000000  ...         0.000000         0.000000   \n",
       "25%         0.036880       0.217465  ...         0.000000         0.003740   \n",
       "50%         0.091930       0.336360  ...         0.000000         0.089202   \n",
       "75%         0.153370       0.461540  ...         0.029818         0.243240   \n",
       "max         1.000000       1.000000  ...         0.666667         1.000000   \n",
       "\n",
       "       dev_cat_books  dev_cat_finance  dev_cat_games  dev_cat_lifestyle  \\\n",
       "count  230263.000000    230263.000000  230263.000000      230263.000000   \n",
       "mean        0.001539         0.000343       0.054759           0.008382   \n",
       "std         0.014740         0.006505       0.069647           0.039680   \n",
       "min         0.000000         0.000000       0.000000           0.000000   \n",
       "25%         0.000000         0.000000       0.000000           0.000000   \n",
       "50%         0.000000         0.000000       0.021592           0.000000   \n",
       "75%         0.000000         0.000000       0.092800           0.000000   \n",
       "max         0.333213         0.250000       0.333333           0.500000   \n",
       "\n",
       "       dev_cat_navigation  dev_cat_productivity  dev_cat_reference  \\\n",
       "count       230263.000000         230263.000000      230263.000000   \n",
       "mean             0.000093              0.066488           0.000626   \n",
       "std              0.003688              0.092115           0.010452   \n",
       "min              0.000000              0.000000           0.000000   \n",
       "25%              0.000000              0.001965           0.000000   \n",
       "50%              0.000000              0.021430           0.000000   \n",
       "75%              0.000000              0.095670           0.000000   \n",
       "max              0.460349              0.500000           0.618652   \n",
       "\n",
       "       dev_cat_utilities  \n",
       "count      230263.000000  \n",
       "mean            0.109923  \n",
       "std             0.108917  \n",
       "min             0.000000  \n",
       "25%             0.010094  \n",
       "50%             0.069831  \n",
       "75%             0.205828  \n",
       "max             0.500000  \n",
       "\n",
       "[8 rows x 38 columns]"
      ]
     },
     "execution_count": 20,
     "metadata": {},
     "output_type": "execute_result"
    }
   ],
   "source": [
    "eda.describe()"
   ]
  },
  {
   "cell_type": "markdown",
   "metadata": {},
   "source": [
    "### Cellular & Wifi Imputation"
   ]
  },
  {
   "cell_type": "code",
   "execution_count": 21,
   "metadata": {},
   "outputs": [
    {
     "name": "stdout",
     "output_type": "stream",
     "text": [
      "Cellular - Number of unique values :  55914\n",
      "count    230218.000000\n",
      "mean          0.810909\n",
      "std           0.290568\n",
      "min           0.000000\n",
      "25%           0.725650\n",
      "50%           0.978570\n",
      "75%           1.000000\n",
      "max           1.000000\n",
      "Name: cellular, dtype: float64\n",
      "1.00000    81708\n",
      "0.00000     5125\n",
      "0.50000      174\n",
      "0.66667      139\n",
      "0.33333      104\n",
      "           ...  \n",
      "0.10217        1\n",
      "0.86091        1\n",
      "0.09014        1\n",
      "0.63182        1\n",
      "0.59109        1\n",
      "Name: cellular, Length: 55914, dtype: int64\n",
      "--------------------------------------------------\n"
     ]
    }
   ],
   "source": [
    "print('Cellular - Number of unique values : ',eda['cellular'].nunique())\n",
    "print(eda['cellular'].describe())\n",
    "print(eda['cellular'].value_counts())\n",
    "print('--------------------------------------------------')"
   ]
  },
  {
   "cell_type": "code",
   "execution_count": 22,
   "metadata": {},
   "outputs": [
    {
     "name": "stdout",
     "output_type": "stream",
     "text": [
      "Wifi - Number of unique values :  55920\n",
      "count    230218.000000\n",
      "mean          0.189091\n",
      "std           0.290568\n",
      "min           0.000000\n",
      "25%           0.000000\n",
      "50%           0.021430\n",
      "75%           0.274350\n",
      "max           1.000000\n",
      "Name: wifi, dtype: float64\n",
      "0.00000    81708\n",
      "1.00000     5125\n",
      "0.50000      174\n",
      "0.33333      139\n",
      "0.66667      104\n",
      "           ...  \n",
      "0.73851        1\n",
      "0.46826        1\n",
      "0.23677        1\n",
      "0.55634        1\n",
      "0.40891        1\n",
      "Name: wifi, Length: 55920, dtype: int64\n"
     ]
    }
   ],
   "source": [
    "print('Wifi - Number of unique values : ',eda['wifi'].nunique())\n",
    "print(eda['wifi'].describe())\n",
    "print(eda['wifi'].value_counts())"
   ]
  },
  {
   "cell_type": "code",
   "execution_count": 23,
   "metadata": {},
   "outputs": [
    {
     "data": {
      "text/plain": [
       "<seaborn.axisgrid.FacetGrid at 0x7fe4161b2150>"
      ]
     },
     "execution_count": 23,
     "metadata": {},
     "output_type": "execute_result"
    },
    {
     "data": {
      "image/png": "[encoded data removed]",
      "text/plain": [
       "<Figure size 360x360 with 1 Axes>"
      ]
     },
     "metadata": {
      "needs_background": "light"
     },
     "output_type": "display_data"
    }
   ],
   "source": [
    "sns.displot(eda['cellular'], kde = True)"
   ]
  },
  {
   "cell_type": "code",
   "execution_count": 24,
   "metadata": {},
   "outputs": [
    {
     "data": {
      "text/plain": [
       "<seaborn.axisgrid.FacetGrid at 0x7fe44e082a50>"
      ]
     },
     "execution_count": 24,
     "metadata": {},
     "output_type": "execute_result"
    },
    {
     "data": {
      "image/png": "[encoded data removed]",
      "text/plain": [
       "<Figure size 360x360 with 1 Axes>"
      ]
     },
     "metadata": {
      "needs_background": "light"
     },
     "output_type": "display_data"
    }
   ],
   "source": [
    "sns.displot(eda['wifi'], kde = True)"
   ]
  },
  {
   "cell_type": "code",
   "execution_count": 25,
   "metadata": {},
   "outputs": [
    {
     "data": {
      "text/plain": [
       "<seaborn.axisgrid.FacetGrid at 0x7fe434000b90>"
      ]
     },
     "execution_count": 25,
     "metadata": {},
     "output_type": "execute_result"
    },
    {
     "data": {
      "image/png": "[encoded data removed]",
      "text/plain": [
       "<Figure size 360x360 with 1 Axes>"
      ]
     },
     "metadata": {
      "needs_background": "light"
     },
     "output_type": "display_data"
    }
   ],
   "source": [
    "# Impute - median value\n",
    "eda['cellular'] = eda['cellular'].fillna(eda['cellular'].median())\n",
    "eda['wifi'] = eda['wifi'].fillna(eda['wifi'].median())\n",
    "sns.displot(eda['wifi'],kde=True)"
   ]
  },
  {
   "cell_type": "code",
   "execution_count": 26,
   "metadata": {},
   "outputs": [
    {
     "data": {
      "text/plain": [
       "<seaborn.axisgrid.FacetGrid at 0x7fe407946c10>"
      ]
     },
     "execution_count": 26,
     "metadata": {},
     "output_type": "execute_result"
    },
    {
     "data": {
      "image/png": "[encoded data removed]",
      "text/plain": [
       "<Figure size 360x360 with 1 Axes>"
      ]
     },
     "metadata": {
      "needs_background": "light"
     },
     "output_type": "display_data"
    }
   ],
   "source": [
    "sns.displot(eda['cellular'],kde=True)"
   ]
  },
  {
   "cell_type": "markdown",
   "metadata": {},
   "source": [
    "### Distinct_app count variations"
   ]
  },
  {
   "cell_type": "code",
   "execution_count": 27,
   "metadata": {},
   "outputs": [
    {
     "data": {
      "text/plain": [
       "<seaborn.axisgrid.FacetGrid at 0x7fe407946ad0>"
      ]
     },
     "execution_count": 27,
     "metadata": {},
     "output_type": "execute_result"
    },
    {
     "data": {
      "image/png": "[encoded data removed]",
      "text/plain": [
       "<Figure size 432x360 with 2 Axes>"
      ]
     },
     "metadata": {
      "needs_background": "light"
     },
     "output_type": "display_data"
    }
   ],
   "source": [
    "sns.catplot(x=\"platform\", y=\"distinct_app\", col=\"gender\",\n",
    "                data=eda, saturation=.5,\n",
    "                kind=\"box\", ci=None, aspect=.6)"
   ]
  },
  {
   "cell_type": "code",
   "execution_count": 28,
   "metadata": {},
   "outputs": [
    {
     "data": {
      "text/plain": [
       "count    229188.000000\n",
       "mean         10.070161\n",
       "std          10.032108\n",
       "min           1.000000\n",
       "25%           4.000000\n",
       "50%           7.000000\n",
       "75%          13.000000\n",
       "max         167.000000\n",
       "Name: distinct_app, dtype: float64"
      ]
     },
     "execution_count": 28,
     "metadata": {},
     "output_type": "execute_result"
    }
   ],
   "source": [
    "eda['distinct_app'].describe()"
   ]
  },
  {
   "cell_type": "code",
   "execution_count": 29,
   "metadata": {},
   "outputs": [
    {
     "data": {
      "text/plain": [
       "7.0"
      ]
     },
     "execution_count": 29,
     "metadata": {},
     "output_type": "execute_result"
    }
   ],
   "source": [
    "eda['distinct_app'].median()"
   ]
  },
  {
   "cell_type": "code",
   "execution_count": 30,
   "metadata": {},
   "outputs": [
    {
     "data": {
      "text/plain": [
       "<seaborn.axisgrid.FacetGrid at 0x7fe40c53b790>"
      ]
     },
     "execution_count": 30,
     "metadata": {},
     "output_type": "execute_result"
    },
    {
     "data": {
      "image/png": "[encoded data removed]",
      "text/plain": [
       "<Figure size 360x360 with 1 Axes>"
      ]
     },
     "metadata": {
      "needs_background": "light"
     },
     "output_type": "display_data"
    }
   ],
   "source": [
    "sns.displot(eda['distinct_app'],kde=True)"
   ]
  },
  {
   "cell_type": "code",
   "execution_count": 31,
   "metadata": {},
   "outputs": [
    {
     "name": "stdout",
     "output_type": "stream",
     "text": [
      "Overall - \n",
      "3.0      19790\n",
      "4.0      19260\n",
      "2.0      18383\n",
      "5.0      18287\n",
      "6.0      16249\n",
      "         ...  \n",
      "155.0        1\n",
      "141.0        1\n",
      "167.0        1\n",
      "128.0        1\n",
      "144.0        1\n",
      "Name: distinct_app, Length: 137, dtype: int64\n",
      "----------------------------------\n",
      "distinct_app  gender\n",
      "1.0           1.0       11231\n",
      "              0.0        2104\n",
      "2.0           1.0       15967\n",
      "              0.0        2416\n",
      "3.0           1.0       17313\n",
      "                        ...  \n",
      "147.0         0.0           1\n",
      "153.0         0.0           1\n",
      "155.0         1.0           1\n",
      "159.0         1.0           1\n",
      "167.0         1.0           1\n",
      "Name: gender, Length: 249, dtype: int64\n"
     ]
    }
   ],
   "source": [
    "print('Overall - ')\n",
    "print(eda['distinct_app'].value_counts(ascending= False))\n",
    "print('----------------------------------')\n",
    "print(eda.groupby('distinct_app')['gender'].value_counts(ascending= False))"
   ]
  },
  {
   "cell_type": "code",
   "execution_count": 32,
   "metadata": {},
   "outputs": [
    {
     "data": {
      "text/plain": [
       "<seaborn.axisgrid.FacetGrid at 0x7fe407f8a350>"
      ]
     },
     "execution_count": 32,
     "metadata": {},
     "output_type": "execute_result"
    },
    {
     "data": {
      "image/png": "[encoded data removed]",
      "text/plain": [
       "<Figure size 360x360 with 1 Axes>"
      ]
     },
     "metadata": {
      "needs_background": "light"
     },
     "output_type": "display_data"
    }
   ],
   "source": [
    "# Impute - median value\n",
    "eda['distinct_app'] = eda['distinct_app'].fillna(eda['distinct_app'].median())\n",
    "sns.displot(eda['distinct_app'],kde=True)"
   ]
  },
  {
   "cell_type": "code",
   "execution_count": 33,
   "metadata": {},
   "outputs": [
    {
     "data": {
      "text/plain": [
       "0"
      ]
     },
     "execution_count": 33,
     "metadata": {},
     "output_type": "execute_result"
    }
   ],
   "source": [
    "eda['distinct_app'].isnull().sum()"
   ]
  },
  {
   "cell_type": "markdown",
   "metadata": {},
   "source": [
    "### Categorical Variables - Platform & Device Category"
   ]
  },
  {
   "cell_type": "code",
   "execution_count": 34,
   "metadata": {},
   "outputs": [
    {
     "name": "stdout",
     "output_type": "stream",
     "text": [
      "Overall - \n",
      "ANDROID    225891\n",
      "IOS          3734\n",
      "Name: platform, dtype: int64\n",
      "----------------------------------\n",
      "platform  gender\n",
      "ANDROID   1.0       196759\n",
      "          0.0        29132\n",
      "IOS       1.0         2907\n",
      "          0.0          827\n",
      "Name: gender, dtype: int64\n"
     ]
    }
   ],
   "source": [
    "print('Overall - ')\n",
    "print(eda['platform'].value_counts())\n",
    "print('----------------------------------')\n",
    "print(eda.groupby('platform')['gender'].value_counts())"
   ]
  },
  {
   "cell_type": "code",
   "execution_count": 35,
   "metadata": {},
   "outputs": [
    {
     "name": "stdout",
     "output_type": "stream",
     "text": [
      "Overall - \n",
      "SMART PHONE    226013\n",
      "TABLET           1585\n",
      "Name: device_category, dtype: int64\n",
      "----------------------------------\n",
      "device_category  gender\n",
      "SMART PHONE      1.0       196768\n",
      "                 0.0        29245\n",
      "TABLET           1.0         1206\n",
      "                 0.0          379\n",
      "Name: gender, dtype: int64\n"
     ]
    }
   ],
   "source": [
    "print('Overall - ')\n",
    "print(eda['device_category'].value_counts())\n",
    "print('----------------------------------')\n",
    "print(eda.groupby('device_category')['gender'].value_counts())"
   ]
  },
  {
   "cell_type": "code",
   "execution_count": 36,
   "metadata": {},
   "outputs": [
    {
     "data": {
      "text/plain": [
       "ifa                     0\n",
       "platform                0\n",
       "first_seen              0\n",
       "last_seen               0\n",
       "num_days                0\n",
       "brq                     0\n",
       "brq_engagement          0\n",
       "gender                  0\n",
       "distinct_app            0\n",
       "skewness_female         0\n",
       "skewness_male           0\n",
       "daypart_home            0\n",
       "daypart_other           0\n",
       "daypart_work            0\n",
       "device_category         0\n",
       "cellular                0\n",
       "wifi                    0\n",
       "dev_cat_iab1            0\n",
       "dev_cat_iab1_1          0\n",
       "dev_cat_iab1_6          0\n",
       "dev_cat_iab12           0\n",
       "dev_cat_iab13           0\n",
       "dev_cat_iab14           0\n",
       "dev_cat_iab15           0\n",
       "dev_cat_iab15_10        0\n",
       "dev_cat_iab17           0\n",
       "dev_cat_iab19           0\n",
       "dev_cat_iab19_29        0\n",
       "dev_cat_iab20           0\n",
       "dev_cat_iab3            0\n",
       "dev_cat_iab5            0\n",
       "dev_cat_iab7            0\n",
       "dev_cat_iab9            0\n",
       "dev_cat_iab9_23         0\n",
       "dev_cat_iab9_30         0\n",
       "dev_cat_books           0\n",
       "dev_cat_finance         0\n",
       "dev_cat_games           0\n",
       "dev_cat_lifestyle       0\n",
       "dev_cat_navigation      0\n",
       "dev_cat_productivity    0\n",
       "dev_cat_reference       0\n",
       "dev_cat_utilities       0\n",
       "dtype: int64"
      ]
     },
     "execution_count": 36,
     "metadata": {},
     "output_type": "execute_result"
    }
   ],
   "source": [
    "# Categorical Columns - Platform, Device_Category - mode imputation\n",
    "eda['platform'] = eda['platform'].fillna(eda['platform'].value_counts().index[0])\n",
    "eda['device_category'] = eda['device_category'].fillna(eda['device_category'].value_counts().index[0])\n",
    "eda.isnull().sum()"
   ]
  },
  {
   "cell_type": "markdown",
   "metadata": {},
   "source": [
    "## All missing values are now dealt with!\n",
    "## Let's look at outliers - "
   ]
  },
  {
   "cell_type": "code",
   "execution_count": 37,
   "metadata": {},
   "outputs": [],
   "source": [
    "def remove_outliers_using_quantiles(qu_dataset, qu_field, qu_fence):\n",
    "    a = qu_dataset[qu_field].describe()\n",
    "    \n",
    "    iqr = a[\"75%\"] - a[\"25%\"]\n",
    "    print(\"interquartile range:\", iqr)\n",
    "    \n",
    "    upper_inner_fence = a[\"75%\"] + 1.5 * iqr\n",
    "    lower_inner_fence = a[\"25%\"] - 1.5 * iqr\n",
    "    print(\"upper_inner_fence:\", upper_inner_fence)\n",
    "    print(\"lower_inner_fence:\", lower_inner_fence)\n",
    "    \n",
    "    upper_outer_fence = a[\"75%\"] + 3 * iqr\n",
    "    lower_outer_fence = a[\"25%\"] - 3 * iqr\n",
    "    print(\"upper_outer_fence:\", upper_outer_fence)\n",
    "    print(\"lower_outer_fence:\", lower_outer_fence)\n",
    "    \n",
    "    count_over_upper = len(qu_dataset[qu_dataset[qu_field]>upper_inner_fence])\n",
    "    count_under_lower = len(qu_dataset[qu_dataset[qu_field]<lower_inner_fence])\n",
    "    percentage = 100 * (count_under_lower + count_over_upper) / a[\"count\"]\n",
    "    print(\"percentage of records out of inner fences: %.2f\"% (percentage))\n",
    "\n",
    "    count_over_upper = len(qu_dataset[qu_dataset[qu_field]>upper_outer_fence])\n",
    "    count_under_lower = len(qu_dataset[qu_dataset[qu_field]<lower_outer_fence])\n",
    "    percentage = 100 * (count_under_lower + count_over_upper) / a[\"count\"]\n",
    "    print(\"percentage of records out of outer fences: %.2f\"% (percentage))\n",
    "    \n",
    "    if qu_fence == \"inner\":\n",
    "        output_dataset = qu_dataset[qu_dataset[qu_field]<=upper_inner_fence]\n",
    "        output_dataset = output_dataset[output_dataset[qu_field]>=lower_inner_fence]\n",
    "    elif qu_fence == \"outer\":\n",
    "        output_dataset = qu_dataset[qu_dataset[qu_field]<=upper_outer_fence]\n",
    "        output_dataset = output_dataset[output_dataset[qu_field]>=lower_outer_fence]\n",
    "    else:\n",
    "        output_dataset = qu_dataset\n",
    "    \n",
    "    print(\"length of input dataframe:\", len(qu_dataset))\n",
    "    print(\"length of new dataframe after outlier removal:\", len(output_dataset))\n",
    "    \n",
    "    return output_dataset\n"
   ]
  },
  {
   "cell_type": "code",
   "execution_count": 38,
   "metadata": {},
   "outputs": [
    {
     "name": "stdout",
     "output_type": "stream",
     "text": [
      "Changes for column: num_days\n",
      "interquartile range: 127.0\n",
      "upper_inner_fence: 343.5\n",
      "lower_inner_fence: -164.5\n",
      "upper_outer_fence: 534.0\n",
      "lower_outer_fence: -355.0\n",
      "percentage of records out of inner fences: 5.48\n",
      "percentage of records out of outer fences: 1.20\n",
      "length of input dataframe: 230263\n",
      "length of new dataframe after outlier removal: 227491\n",
      "Changes for column: brq\n",
      "interquartile range: 2654.0\n",
      "upper_inner_fence: 6923.0\n",
      "lower_inner_fence: -3693.0\n",
      "upper_outer_fence: 10904.0\n",
      "lower_outer_fence: -7674.0\n",
      "percentage of records out of inner fences: 10.42\n",
      "percentage of records out of outer fences: 5.76\n",
      "length of input dataframe: 227491\n",
      "length of new dataframe after outlier removal: 214385\n",
      "Changes for column: brq_engagement\n",
      "interquartile range: 17.94371\n",
      "upper_inner_fence: 52.145565000000005\n",
      "lower_inner_fence: -19.629275\n",
      "upper_outer_fence: 79.06113\n",
      "lower_outer_fence: -46.54484\n",
      "percentage of records out of inner fences: 7.72\n",
      "percentage of records out of outer fences: 3.39\n",
      "length of input dataframe: 214385\n",
      "length of new dataframe after outlier removal: 207125\n",
      "Changes for column: distinct_app\n",
      "interquartile range: 8.0\n",
      "upper_inner_fence: 24.0\n",
      "lower_inner_fence: -8.0\n",
      "upper_outer_fence: 36.0\n",
      "lower_outer_fence: -20.0\n",
      "percentage of records out of inner fences: 5.97\n",
      "percentage of records out of outer fences: 1.93\n",
      "length of input dataframe: 207125\n",
      "length of new dataframe after outlier removal: 203125\n",
      "Changes for column: skewness_female\n",
      "interquartile range: 0.0\n",
      "upper_inner_fence: 0.0\n",
      "lower_inner_fence: 0.0\n",
      "upper_outer_fence: 0.0\n",
      "lower_outer_fence: 0.0\n",
      "percentage of records out of inner fences: 1.68\n",
      "percentage of records out of outer fences: 1.68\n",
      "length of input dataframe: 203125\n",
      "length of new dataframe after outlier removal: 199713\n",
      "Changes for column: skewness_male\n",
      "interquartile range: 0.5997177425748855\n",
      "upper_inner_fence: 1.5149612292469437\n",
      "lower_inner_fence: -0.8839097410525983\n",
      "upper_outer_fence: 2.414537843109272\n",
      "lower_outer_fence: -1.7834863549149265\n",
      "percentage of records out of inner fences: 0.00\n",
      "percentage of records out of outer fences: 0.00\n",
      "length of input dataframe: 199713\n",
      "length of new dataframe after outlier removal: 199713\n",
      "Changes for column: daypart_home\n",
      "interquartile range: 0.27094000000000007\n",
      "upper_inner_fence: 1.0736500000000002\n",
      "lower_inner_fence: -0.010110000000000119\n",
      "upper_outer_fence: 1.4800600000000004\n",
      "lower_outer_fence: -0.4165200000000002\n",
      "percentage of records out of inner fences: 0.00\n",
      "percentage of records out of outer fences: 0.00\n",
      "length of input dataframe: 199713\n",
      "length of new dataframe after outlier removal: 199713\n",
      "Changes for column: daypart_other\n",
      "interquartile range: 0.11932000000000001\n",
      "upper_inner_fence: 0.33216\n",
      "lower_inner_fence: -0.14512000000000003\n",
      "upper_outer_fence: 0.51114\n",
      "lower_outer_fence: -0.32410000000000005\n",
      "percentage of records out of inner fences: 4.92\n",
      "percentage of records out of outer fences: 1.73\n",
      "length of input dataframe: 199713\n",
      "length of new dataframe after outlier removal: 196266\n",
      "Changes for column: daypart_work\n",
      "interquartile range: 0.249425\n",
      "upper_inner_fence: 0.844775\n",
      "lower_inner_fence: -0.15292500000000003\n",
      "upper_outer_fence: 1.2189125\n",
      "lower_outer_fence: -0.5270625\n",
      "percentage of records out of inner fences: 2.94\n",
      "percentage of records out of outer fences: 0.00\n",
      "length of input dataframe: 196266\n",
      "length of new dataframe after outlier removal: 196266\n",
      "Changes for column: cellular\n",
      "interquartile range: 0.2606075\n",
      "upper_inner_fence: 1.39091125\n",
      "lower_inner_fence: 0.34848125\n",
      "upper_outer_fence: 1.7818225\n",
      "lower_outer_fence: -0.04242999999999997\n",
      "percentage of records out of inner fences: 11.03\n",
      "percentage of records out of outer fences: 0.00\n",
      "length of input dataframe: 196266\n",
      "length of new dataframe after outlier removal: 196266\n",
      "Changes for column: wifi\n",
      "interquartile range: 0.2606075\n",
      "upper_inner_fence: 0.6515187499999999\n",
      "lower_inner_fence: -0.39091125\n",
      "upper_outer_fence: 1.04243\n",
      "lower_outer_fence: -0.7818225\n",
      "percentage of records out of inner fences: 11.03\n",
      "percentage of records out of outer fences: 0.00\n",
      "length of input dataframe: 196266\n",
      "length of new dataframe after outlier removal: 196266\n"
     ]
    }
   ],
   "source": [
    "eda_outlier = eda.copy()\n",
    "num_cols_check = ['num_days', 'brq', 'brq_engagement', 'distinct_app', 'skewness_female',\n",
    "       'skewness_male', 'daypart_home', 'daypart_other', 'daypart_work',\n",
    "       'cellular', 'wifi']\n",
    "for n in num_cols_check:\n",
    "    print('Changes for column:', n)\n",
    "    eda_outlier = remove_outliers_using_quantiles(eda_outlier, n, \"outer\")"
   ]
  },
  {
   "cell_type": "code",
   "execution_count": 39,
   "metadata": {},
   "outputs": [
    {
     "name": "stdout",
     "output_type": "stream",
     "text": [
      "<class 'pandas.core.frame.DataFrame'>\n",
      "Int64Index: 196266 entries, 0 to 230262\n",
      "Data columns (total 43 columns):\n",
      " #   Column                Non-Null Count   Dtype  \n",
      "---  ------                --------------   -----  \n",
      " 0   ifa                   196266 non-null  object \n",
      " 1   platform              196266 non-null  object \n",
      " 2   first_seen            196266 non-null  object \n",
      " 3   last_seen             196266 non-null  object \n",
      " 4   num_days              196266 non-null  float64\n",
      " 5   brq                   196266 non-null  int64  \n",
      " 6   brq_engagement        196266 non-null  float64\n",
      " 7   gender                196266 non-null  float64\n",
      " 8   distinct_app          196266 non-null  float64\n",
      " 9   skewness_female       196266 non-null  float64\n",
      " 10  skewness_male         196266 non-null  float64\n",
      " 11  daypart_home          196266 non-null  float64\n",
      " 12  daypart_other         196266 non-null  float64\n",
      " 13  daypart_work          196266 non-null  float64\n",
      " 14  device_category       196266 non-null  object \n",
      " 15  cellular              196266 non-null  float64\n",
      " 16  wifi                  196266 non-null  float64\n",
      " 17  dev_cat_iab1          196266 non-null  float64\n",
      " 18  dev_cat_iab1_1        196266 non-null  float64\n",
      " 19  dev_cat_iab1_6        196266 non-null  float64\n",
      " 20  dev_cat_iab12         196266 non-null  float64\n",
      " 21  dev_cat_iab13         196266 non-null  float64\n",
      " 22  dev_cat_iab14         196266 non-null  float64\n",
      " 23  dev_cat_iab15         196266 non-null  float64\n",
      " 24  dev_cat_iab15_10      196266 non-null  float64\n",
      " 25  dev_cat_iab17         196266 non-null  float64\n",
      " 26  dev_cat_iab19         196266 non-null  float64\n",
      " 27  dev_cat_iab19_29      196266 non-null  float64\n",
      " 28  dev_cat_iab20         196266 non-null  float64\n",
      " 29  dev_cat_iab3          196266 non-null  float64\n",
      " 30  dev_cat_iab5          196266 non-null  float64\n",
      " 31  dev_cat_iab7          196266 non-null  float64\n",
      " 32  dev_cat_iab9          196266 non-null  float64\n",
      " 33  dev_cat_iab9_23       196266 non-null  float64\n",
      " 34  dev_cat_iab9_30       196266 non-null  float64\n",
      " 35  dev_cat_books         196266 non-null  float64\n",
      " 36  dev_cat_finance       196266 non-null  float64\n",
      " 37  dev_cat_games         196266 non-null  float64\n",
      " 38  dev_cat_lifestyle     196266 non-null  float64\n",
      " 39  dev_cat_navigation    196266 non-null  float64\n",
      " 40  dev_cat_productivity  196266 non-null  float64\n",
      " 41  dev_cat_reference     196266 non-null  float64\n",
      " 42  dev_cat_utilities     196266 non-null  float64\n",
      "dtypes: float64(37), int64(1), object(5)\n",
      "memory usage: 65.9+ MB\n"
     ]
    }
   ],
   "source": [
    "eda_outlier.info()"
   ]
  },
  {
   "cell_type": "markdown",
   "metadata": {},
   "source": [
    "## Saving this clean dataframe - ready for next steps \n"
   ]
  },
  {
   "cell_type": "code",
   "execution_count": 40,
   "metadata": {},
   "outputs": [],
   "source": [
    "eda_outlier.to_csv('clean_df.csv',index=False)"
   ]
  },
  {
   "cell_type": "markdown",
   "metadata": {},
   "source": [
    "## Next Steps - app propensity dataset & app metadata --- "
   ]
  },
  {
   "cell_type": "markdown",
   "metadata": {},
   "source": [
    "## App propensity scores"
   ]
  },
  {
   "cell_type": "code",
   "execution_count": 3,
   "metadata": {},
   "outputs": [
    {
     "data": {
      "text/html": [
       "<div>\n",
       "<style scoped>\n",
       "    .dataframe tbody tr th:only-of-type {\n",
       "        vertical-align: middle;\n",
       "    }\n",
       "\n",
       "    .dataframe tbody tr th {\n",
       "        vertical-align: top;\n",
       "    }\n",
       "\n",
       "    .dataframe thead th {\n",
       "        text-align: right;\n",
       "    }\n",
       "</style>\n",
       "<table border=\"1\" class=\"dataframe\">\n",
       "  <thead>\n",
       "    <tr style=\"text-align: right;\">\n",
       "      <th></th>\n",
       "      <th>ifa</th>\n",
       "      <th>bundle</th>\n",
       "      <th>weight</th>\n",
       "    </tr>\n",
       "  </thead>\n",
       "  <tbody>\n",
       "    <tr>\n",
       "      <th>0</th>\n",
       "      <td>7ee413f5f44783ebd036b30f62a7d8cd94a5a844e27416...</td>\n",
       "      <td>com.lenovo.anyshare.gps</td>\n",
       "      <td>0.18772</td>\n",
       "    </tr>\n",
       "    <tr>\n",
       "      <th>1</th>\n",
       "      <td>7ee413f5f44783ebd036b30f62a7d8cd94a5a844e27416...</td>\n",
       "      <td>com.kathleenOswald.solitaireGooglePlay</td>\n",
       "      <td>0.27845</td>\n",
       "    </tr>\n",
       "    <tr>\n",
       "      <th>2</th>\n",
       "      <td>7ee413f5f44783ebd036b30f62a7d8cd94a5a844e27416...</td>\n",
       "      <td>com.utorrent.client</td>\n",
       "      <td>0.53382</td>\n",
       "    </tr>\n",
       "    <tr>\n",
       "      <th>3</th>\n",
       "      <td>0abc06345b72381509cc7a1662486d9b42346aa142a34e...</td>\n",
       "      <td>com.lenovo.anyshare.gps</td>\n",
       "      <td>0.05908</td>\n",
       "    </tr>\n",
       "    <tr>\n",
       "      <th>4</th>\n",
       "      <td>0abc06345b72381509cc7a1662486d9b42346aa142a34e...</td>\n",
       "      <td>com.lyrebirdstudio.instasquare</td>\n",
       "      <td>0.17523</td>\n",
       "    </tr>\n",
       "  </tbody>\n",
       "</table>\n",
       "</div>"
      ],
      "text/plain": [
       "                                                 ifa  \\\n",
       "0  7ee413f5f44783ebd036b30f62a7d8cd94a5a844e27416...   \n",
       "1  7ee413f5f44783ebd036b30f62a7d8cd94a5a844e27416...   \n",
       "2  7ee413f5f44783ebd036b30f62a7d8cd94a5a844e27416...   \n",
       "3  0abc06345b72381509cc7a1662486d9b42346aa142a34e...   \n",
       "4  0abc06345b72381509cc7a1662486d9b42346aa142a34e...   \n",
       "\n",
       "                                   bundle   weight  \n",
       "0                 com.lenovo.anyshare.gps  0.18772  \n",
       "1  com.kathleenOswald.solitaireGooglePlay  0.27845  \n",
       "2                     com.utorrent.client  0.53382  \n",
       "3                 com.lenovo.anyshare.gps  0.05908  \n",
       "4          com.lyrebirdstudio.instasquare  0.17523  "
      ]
     },
     "execution_count": 3,
     "metadata": {},
     "output_type": "execute_result"
    }
   ],
   "source": [
    "app_propensity = pd.read_csv(os.path.join(filepath, 'app_propensity_data.csv'))\n",
    "app_propensity.head()"
   ]
  },
  {
   "cell_type": "code",
   "execution_count": 4,
   "metadata": {},
   "outputs": [
    {
     "name": "stdout",
     "output_type": "stream",
     "text": [
      "Shape:  (2775360, 3)\n",
      "#Unique ifa entries:  273814\n"
     ]
    },
    {
     "data": {
      "text/plain": [
       "08e7c5fbf184131661c9182931ed3d1c4305de8e5c5b51b035063dbd9c6d262a    316\n",
       "d6d6679fb4da6a5ccd9618a1b1143195efc5c0efe13c0e2d27cbe4b29e284b20    178\n",
       "26754ed77c3e2245dab37c1edfe275d1cfce203241fe8be877e9a1cebbb49a74    167\n",
       "ab1c6559edb92422909b106d8fa1cc987356bd5ff603306ba645ce97129b5273    159\n",
       "7ff272501211ae7689e30f835d97d7b9699c2f64f2d4649d654ebaa0ea0a8ae5    156\n",
       "                                                                   ... \n",
       "f6307f918e1329622cbbc73b9731491282c4303ace4ef6d8643b68f039825c83      1\n",
       "ffdaf122cadaa99937179bf0de855f94e786ac4688c7386a1d7902f5eb6c8418      1\n",
       "c214a714b693c3b9588354ec0b7225c310bf92e5f4f7acabee9535f848ef0353      1\n",
       "816c1c32fb30cbc56876235e72c290a4ab8badc7ab3c8e7d6f536c46620efcf6      1\n",
       "e14a20249d95d4ffa9bd5f8e408aa58db295a831a816d64bbce52f457bbdf80e      1\n",
       "Name: ifa, Length: 273814, dtype: int64"
      ]
     },
     "execution_count": 4,
     "metadata": {},
     "output_type": "execute_result"
    }
   ],
   "source": [
    "print('Shape: ',app_propensity.shape)\n",
    "print('#Unique ifa entries: ',app_propensity['ifa'].nunique())\n",
    "app_propensity['ifa'].value_counts()\n"
   ]
  },
  {
   "cell_type": "code",
   "execution_count": 5,
   "metadata": {},
   "outputs": [
    {
     "name": "stdout",
     "output_type": "stream",
     "text": [
      "08e7c5fbf184131661c9182931ed3d1c4305de8e5c5b51b035063dbd9c6d262a\n",
      "Sum of weights check for two random ifa values 1.00023 1.00011\n"
     ]
    }
   ],
   "source": [
    "print(app_propensity['ifa'].value_counts().index[0])\n",
    "check = app_propensity['ifa'].value_counts().index[0]\n",
    "check_2 = app_propensity['ifa'].value_counts().index[1]\n",
    "ch_ = app_propensity[app_propensity['ifa'] == check]\n",
    "ch_2 = app_propensity[app_propensity['ifa'] == check_2]\n",
    "print(\"Sum of weights check for two random ifa values\", ch_['weight'].sum(),ch_2['weight'].sum())"
   ]
  },
  {
   "cell_type": "code",
   "execution_count": 6,
   "metadata": {},
   "outputs": [
    {
     "data": {
      "text/plain": [
       "ifa       0\n",
       "bundle    1\n",
       "weight    0\n",
       "dtype: int64"
      ]
     },
     "execution_count": 6,
     "metadata": {},
     "output_type": "execute_result"
    }
   ],
   "source": [
    "app_propensity.isnull().sum()"
   ]
  },
  {
   "cell_type": "code",
   "execution_count": 7,
   "metadata": {},
   "outputs": [
    {
     "data": {
      "text/html": [
       "<div>\n",
       "<style scoped>\n",
       "    .dataframe tbody tr th:only-of-type {\n",
       "        vertical-align: middle;\n",
       "    }\n",
       "\n",
       "    .dataframe tbody tr th {\n",
       "        vertical-align: top;\n",
       "    }\n",
       "\n",
       "    .dataframe thead th {\n",
       "        text-align: right;\n",
       "    }\n",
       "</style>\n",
       "<table border=\"1\" class=\"dataframe\">\n",
       "  <thead>\n",
       "    <tr style=\"text-align: right;\">\n",
       "      <th></th>\n",
       "      <th>ifa</th>\n",
       "      <th>bundle</th>\n",
       "      <th>weight</th>\n",
       "    </tr>\n",
       "  </thead>\n",
       "  <tbody>\n",
       "    <tr>\n",
       "      <th>0</th>\n",
       "      <td>7ee413f5f44783ebd036b30f62a7d8cd94a5a844e27416...</td>\n",
       "      <td>com.lenovo.anyshare.gps</td>\n",
       "      <td>0.18772</td>\n",
       "    </tr>\n",
       "    <tr>\n",
       "      <th>1</th>\n",
       "      <td>7ee413f5f44783ebd036b30f62a7d8cd94a5a844e27416...</td>\n",
       "      <td>com.kathleenOswald.solitaireGooglePlay</td>\n",
       "      <td>0.27845</td>\n",
       "    </tr>\n",
       "    <tr>\n",
       "      <th>2</th>\n",
       "      <td>7ee413f5f44783ebd036b30f62a7d8cd94a5a844e27416...</td>\n",
       "      <td>com.utorrent.client</td>\n",
       "      <td>0.53382</td>\n",
       "    </tr>\n",
       "    <tr>\n",
       "      <th>3</th>\n",
       "      <td>0abc06345b72381509cc7a1662486d9b42346aa142a34e...</td>\n",
       "      <td>com.lenovo.anyshare.gps</td>\n",
       "      <td>0.05908</td>\n",
       "    </tr>\n",
       "    <tr>\n",
       "      <th>4</th>\n",
       "      <td>0abc06345b72381509cc7a1662486d9b42346aa142a34e...</td>\n",
       "      <td>com.lyrebirdstudio.instasquare</td>\n",
       "      <td>0.17523</td>\n",
       "    </tr>\n",
       "  </tbody>\n",
       "</table>\n",
       "</div>"
      ],
      "text/plain": [
       "                                                 ifa  \\\n",
       "0  7ee413f5f44783ebd036b30f62a7d8cd94a5a844e27416...   \n",
       "1  7ee413f5f44783ebd036b30f62a7d8cd94a5a844e27416...   \n",
       "2  7ee413f5f44783ebd036b30f62a7d8cd94a5a844e27416...   \n",
       "3  0abc06345b72381509cc7a1662486d9b42346aa142a34e...   \n",
       "4  0abc06345b72381509cc7a1662486d9b42346aa142a34e...   \n",
       "\n",
       "                                   bundle   weight  \n",
       "0                 com.lenovo.anyshare.gps  0.18772  \n",
       "1  com.kathleenOswald.solitaireGooglePlay  0.27845  \n",
       "2                     com.utorrent.client  0.53382  \n",
       "3                 com.lenovo.anyshare.gps  0.05908  \n",
       "4          com.lyrebirdstudio.instasquare  0.17523  "
      ]
     },
     "execution_count": 7,
     "metadata": {},
     "output_type": "execute_result"
    }
   ],
   "source": [
    "app_propensity = app_propensity.dropna()\n",
    "app_propensity = app_propensity.reset_index(drop = True)\n",
    "app_propensity.head()"
   ]
  },
  {
   "cell_type": "markdown",
   "metadata": {},
   "source": [
    "## App Metadata"
   ]
  },
  {
   "cell_type": "code",
   "execution_count": 10,
   "metadata": {},
   "outputs": [
    {
     "data": {
      "text/html": [
       "<div>\n",
       "<style scoped>\n",
       "    .dataframe tbody tr th:only-of-type {\n",
       "        vertical-align: middle;\n",
       "    }\n",
       "\n",
       "    .dataframe tbody tr th {\n",
       "        vertical-align: top;\n",
       "    }\n",
       "\n",
       "    .dataframe thead th {\n",
       "        text-align: right;\n",
       "    }\n",
       "</style>\n",
       "<table border=\"1\" class=\"dataframe\">\n",
       "  <thead>\n",
       "    <tr style=\"text-align: right;\">\n",
       "      <th></th>\n",
       "      <th>appId</th>\n",
       "      <th>id</th>\n",
       "      <th>bundleId</th>\n",
       "      <th>os</th>\n",
       "      <th>lang</th>\n",
       "      <th>country</th>\n",
       "      <th>name</th>\n",
       "      <th>description</th>\n",
       "      <th>developer</th>\n",
       "      <th>deviceCategory</th>\n",
       "      <th>...</th>\n",
       "      <th>whatsNew</th>\n",
       "      <th>videoUrl</th>\n",
       "      <th>secCategory</th>\n",
       "      <th>metaInfo</th>\n",
       "      <th>crawlTime</th>\n",
       "      <th>devHomepage</th>\n",
       "      <th>publisherEmail</th>\n",
       "      <th>publisherAddress</th>\n",
       "      <th>UUID</th>\n",
       "      <th>permissionList</th>\n",
       "    </tr>\n",
       "  </thead>\n",
       "  <tbody>\n",
       "    <tr>\n",
       "      <th>0</th>\n",
       "      <td>1040093707</td>\n",
       "      <td>1040093707</td>\n",
       "      <td>com.zuletteran.scannerfree</td>\n",
       "      <td>IOS</td>\n",
       "      <td>[\"NL\",\"EN\",\"FR\",\"DE\",\"IT\",\"JA\",\"KO\",\"PT\",\"RU\",...</td>\n",
       "      <td>gb</td>\n",
       "      <td>Scanner App: PDF Document Scan</td>\n",
       "      <td>iScanner is a handy scanner app that will turn...</td>\n",
       "      <td>BPMobile</td>\n",
       "      <td>*</td>\n",
       "      <td>...</td>\n",
       "      <td>NaN</td>\n",
       "      <td>NaN</td>\n",
       "      <td>6000|6007</td>\n",
       "      <td>NaN</td>\n",
       "      <td>1570684495073</td>\n",
       "      <td>NaN</td>\n",
       "      <td>NaN</td>\n",
       "      <td>NaN</td>\n",
       "      <td>NaN</td>\n",
       "      <td>NaN</td>\n",
       "    </tr>\n",
       "    <tr>\n",
       "      <th>1</th>\n",
       "      <td>1040093707</td>\n",
       "      <td>1040093707</td>\n",
       "      <td>com.zuletteran.scannerfree</td>\n",
       "      <td>IOS</td>\n",
       "      <td>[\"NL\",\"EN\",\"FR\",\"DE\",\"IT\",\"JA\",\"KO\",\"PT\",\"RU\",...</td>\n",
       "      <td>hk</td>\n",
       "      <td>iScanner - PDF掃描儀</td>\n",
       "      <td>iScanner是一款方便實用的掃描APP，可將你的iPhone或iPad變成一個強大的移動...</td>\n",
       "      <td>BPMobile</td>\n",
       "      <td>*</td>\n",
       "      <td>...</td>\n",
       "      <td>NaN</td>\n",
       "      <td>NaN</td>\n",
       "      <td>6000|6007</td>\n",
       "      <td>NaN</td>\n",
       "      <td>1570684492601</td>\n",
       "      <td>NaN</td>\n",
       "      <td>NaN</td>\n",
       "      <td>NaN</td>\n",
       "      <td>NaN</td>\n",
       "      <td>NaN</td>\n",
       "    </tr>\n",
       "    <tr>\n",
       "      <th>2</th>\n",
       "      <td>1040093707</td>\n",
       "      <td>1040093707</td>\n",
       "      <td>com.zuletteran.scannerfree</td>\n",
       "      <td>IOS</td>\n",
       "      <td>[\"NL\",\"EN\",\"FR\",\"DE\",\"IT\",\"JA\",\"KO\",\"PT\",\"RU\",...</td>\n",
       "      <td>lk</td>\n",
       "      <td>Scanner App: PDF Document Scan</td>\n",
       "      <td>iScanner is a handy scanner app that will turn...</td>\n",
       "      <td>BPMobile</td>\n",
       "      <td>*</td>\n",
       "      <td>...</td>\n",
       "      <td>NaN</td>\n",
       "      <td>NaN</td>\n",
       "      <td>6000|6007</td>\n",
       "      <td>NaN</td>\n",
       "      <td>1570684520175</td>\n",
       "      <td>NaN</td>\n",
       "      <td>NaN</td>\n",
       "      <td>NaN</td>\n",
       "      <td>NaN</td>\n",
       "      <td>NaN</td>\n",
       "    </tr>\n",
       "    <tr>\n",
       "      <th>3</th>\n",
       "      <td>1040093707</td>\n",
       "      <td>1040093707</td>\n",
       "      <td>com.zuletteran.scannerfree</td>\n",
       "      <td>IOS</td>\n",
       "      <td>[\"NL\",\"EN\",\"FR\",\"DE\",\"IT\",\"JA\",\"KO\",\"PT\",\"RU\",...</td>\n",
       "      <td>sg</td>\n",
       "      <td>Scanner App: PDF Document Scan</td>\n",
       "      <td>iScanner is a handy scanner app that will turn...</td>\n",
       "      <td>BPMobile</td>\n",
       "      <td>*</td>\n",
       "      <td>...</td>\n",
       "      <td>NaN</td>\n",
       "      <td>NaN</td>\n",
       "      <td>6000|6007</td>\n",
       "      <td>NaN</td>\n",
       "      <td>1570684526703</td>\n",
       "      <td>NaN</td>\n",
       "      <td>NaN</td>\n",
       "      <td>NaN</td>\n",
       "      <td>NaN</td>\n",
       "      <td>NaN</td>\n",
       "    </tr>\n",
       "    <tr>\n",
       "      <th>4</th>\n",
       "      <td>1040093707</td>\n",
       "      <td>1040093707</td>\n",
       "      <td>com.zuletteran.scannerfree</td>\n",
       "      <td>IOS</td>\n",
       "      <td>[\"NL\",\"EN\",\"FR\",\"DE\",\"IT\",\"JA\",\"KO\",\"PT\",\"RU\",...</td>\n",
       "      <td>kr</td>\n",
       "      <td>iScanner - 문서를 PDF로 스캔</td>\n",
       "      <td>iScanner는 iOS 장치를 강력한 모바일 텍스트 스캐너로 바꾸는 편리한 포토 ...</td>\n",
       "      <td>BPMobile</td>\n",
       "      <td>*</td>\n",
       "      <td>...</td>\n",
       "      <td>NaN</td>\n",
       "      <td>NaN</td>\n",
       "      <td>6000|6007</td>\n",
       "      <td>NaN</td>\n",
       "      <td>1570684518950</td>\n",
       "      <td>NaN</td>\n",
       "      <td>NaN</td>\n",
       "      <td>NaN</td>\n",
       "      <td>NaN</td>\n",
       "      <td>NaN</td>\n",
       "    </tr>\n",
       "  </tbody>\n",
       "</table>\n",
       "<p>5 rows × 43 columns</p>\n",
       "</div>"
      ],
      "text/plain": [
       "        appId          id                    bundleId   os  \\\n",
       "0  1040093707  1040093707  com.zuletteran.scannerfree  IOS   \n",
       "1  1040093707  1040093707  com.zuletteran.scannerfree  IOS   \n",
       "2  1040093707  1040093707  com.zuletteran.scannerfree  IOS   \n",
       "3  1040093707  1040093707  com.zuletteran.scannerfree  IOS   \n",
       "4  1040093707  1040093707  com.zuletteran.scannerfree  IOS   \n",
       "\n",
       "                                                lang country  \\\n",
       "0  [\"NL\",\"EN\",\"FR\",\"DE\",\"IT\",\"JA\",\"KO\",\"PT\",\"RU\",...      gb   \n",
       "1  [\"NL\",\"EN\",\"FR\",\"DE\",\"IT\",\"JA\",\"KO\",\"PT\",\"RU\",...      hk   \n",
       "2  [\"NL\",\"EN\",\"FR\",\"DE\",\"IT\",\"JA\",\"KO\",\"PT\",\"RU\",...      lk   \n",
       "3  [\"NL\",\"EN\",\"FR\",\"DE\",\"IT\",\"JA\",\"KO\",\"PT\",\"RU\",...      sg   \n",
       "4  [\"NL\",\"EN\",\"FR\",\"DE\",\"IT\",\"JA\",\"KO\",\"PT\",\"RU\",...      kr   \n",
       "\n",
       "                             name  \\\n",
       "0  Scanner App: PDF Document Scan   \n",
       "1               iScanner - PDF掃描儀   \n",
       "2  Scanner App: PDF Document Scan   \n",
       "3  Scanner App: PDF Document Scan   \n",
       "4          iScanner - 문서를 PDF로 스캔   \n",
       "\n",
       "                                         description developer deviceCategory  \\\n",
       "0  iScanner is a handy scanner app that will turn...  BPMobile              *   \n",
       "1  iScanner是一款方便實用的掃描APP，可將你的iPhone或iPad變成一個強大的移動...  BPMobile              *   \n",
       "2  iScanner is a handy scanner app that will turn...  BPMobile              *   \n",
       "3  iScanner is a handy scanner app that will turn...  BPMobile              *   \n",
       "4  iScanner는 iOS 장치를 강력한 모바일 텍스트 스캐너로 바꾸는 편리한 포토 ...  BPMobile              *   \n",
       "\n",
       "   ... whatsNew videoUrl secCategory metaInfo      crawlTime devHomepage  \\\n",
       "0  ...      NaN      NaN   6000|6007      NaN  1570684495073         NaN   \n",
       "1  ...      NaN      NaN   6000|6007      NaN  1570684492601         NaN   \n",
       "2  ...      NaN      NaN   6000|6007      NaN  1570684520175         NaN   \n",
       "3  ...      NaN      NaN   6000|6007      NaN  1570684526703         NaN   \n",
       "4  ...      NaN      NaN   6000|6007      NaN  1570684518950         NaN   \n",
       "\n",
       "  publisherEmail publisherAddress UUID permissionList  \n",
       "0            NaN              NaN  NaN            NaN  \n",
       "1            NaN              NaN  NaN            NaN  \n",
       "2            NaN              NaN  NaN            NaN  \n",
       "3            NaN              NaN  NaN            NaN  \n",
       "4            NaN              NaN  NaN            NaN  \n",
       "\n",
       "[5 rows x 43 columns]"
      ]
     },
     "execution_count": 10,
     "metadata": {},
     "output_type": "execute_result"
    }
   ],
   "source": [
    "\n",
    "import csv\n",
    "app_metadata = pd.read_csv(os.path.join(filepath, 'app_metadata.csv'),sep=',',skipinitialspace=True,quoting= csv.QUOTE_ALL,engine='python',escapechar='\\\\',on_bad_lines='skip')\n",
    "app_metadata.head()"
   ]
  },
  {
   "cell_type": "code",
   "execution_count": 11,
   "metadata": {},
   "outputs": [
    {
     "name": "stdout",
     "output_type": "stream",
     "text": [
      "Shape:  (190254, 43)\n"
     ]
    },
    {
     "data": {
      "text/plain": [
       "Index(['appId', 'id', 'bundleId', 'os', 'lang', 'country', 'name',\n",
       "       'description', 'developer', 'deviceCategory', 'devId', 'storeDevId',\n",
       "       'appUrl', 'currRatingScore', 'currRatingCount', 'ratingScore',\n",
       "       'ratingCount', 'price', 'category', 'updateStr', 'version',\n",
       "       'sellerName', 'size', 'icon', 'screenShot', 'language', 'releaseDate',\n",
       "       'releaseDateFlag', 'updateDate', 'contentRating', 'osVersion',\n",
       "       'downloadRange', 'permissions', 'whatsNew', 'videoUrl', 'secCategory',\n",
       "       'metaInfo', 'crawlTime', 'devHomepage', 'publisherEmail',\n",
       "       'publisherAddress', 'UUID', 'permissionList'],\n",
       "      dtype='object')"
      ]
     },
     "execution_count": 11,
     "metadata": {},
     "output_type": "execute_result"
    }
   ],
   "source": [
    "print(\"Shape: \",app_metadata.shape)\n",
    "app_metadata.columns"
   ]
  },
  {
   "cell_type": "code",
   "execution_count": 12,
   "metadata": {},
   "outputs": [
    {
     "name": "stdout",
     "output_type": "stream",
     "text": [
      "(15719, 2)\n",
      "appId         0\n",
      "bundleId    558\n",
      "dtype: int64\n",
      "(15161, 2)\n",
      "    appId_idx                  bundleId_idx\n",
      "0  1040093707    com.zuletteran.scannerfree\n",
      "1  1114751883          com.miniclip.diep.io\n",
      "2  1255469255                  gg.analytics\n",
      "3  1299745483       com.ketchapp.2048bricks\n",
      "4  1300550045  com.salmanios.scorpion.robot\n"
     ]
    }
   ],
   "source": [
    "# Picking unique bundleId, appId values\n",
    "ids = app_metadata[['appId','bundleId']]\n",
    "ids = ids.drop_duplicates()\n",
    "print(ids.shape)\n",
    "print(ids.isnull().sum())\n",
    "ids = ids.dropna()\n",
    "ids = ids.reset_index(drop=True)\n",
    "print(ids.shape)\n",
    "ids.rename(columns={'appId': 'appId_idx', 'bundleId': 'bundleId_idx'}, inplace=True)\n",
    "print(ids.head())"
   ]
  },
  {
   "cell_type": "markdown",
   "metadata": {},
   "source": [
    "#### Columns that might be of interest --  'appId','bundleId','ratingScore','ratingCount', 'price', 'category','contentRating'"
   ]
  },
  {
   "cell_type": "code",
   "execution_count": 13,
   "metadata": {},
   "outputs": [
    {
     "data": {
      "text/plain": [
       "appId                    0\n",
       "id                     376\n",
       "bundleId              2232\n",
       "os                    3580\n",
       "lang                   500\n",
       "country                  0\n",
       "name                     0\n",
       "description              0\n",
       "developer              816\n",
       "deviceCategory       28948\n",
       "devId                  816\n",
       "storeDevId          135755\n",
       "appUrl                 796\n",
       "currRatingScore      31180\n",
       "currRatingCount      31180\n",
       "ratingScore           2687\n",
       "ratingCount           2687\n",
       "price                  832\n",
       "category               504\n",
       "updateStr           166619\n",
       "version               2180\n",
       "sellerName           31180\n",
       "size                 29180\n",
       "icon                     0\n",
       "screenShot              59\n",
       "language            134943\n",
       "releaseDate          31680\n",
       "releaseDateFlag     166619\n",
       "updateDate             436\n",
       "contentRating            0\n",
       "osVersion           135439\n",
       "downloadRange       135471\n",
       "permissions         143771\n",
       "whatsNew            160671\n",
       "videoUrl            166619\n",
       "secCategory          55315\n",
       "metaInfo            160806\n",
       "crawlTime                0\n",
       "devHomepage         144242\n",
       "publisherEmail      164764\n",
       "publisherAddress    169299\n",
       "UUID                155974\n",
       "permissionList      190254\n",
       "dtype: int64"
      ]
     },
     "execution_count": 13,
     "metadata": {},
     "output_type": "execute_result"
    }
   ],
   "source": [
    "app_metadata.isnull().sum()"
   ]
  },
  {
   "cell_type": "markdown",
   "metadata": {},
   "source": [
    "ContentRating has no null values, should be a good index to consider. Category seems to have good data too."
   ]
  },
  {
   "cell_type": "code",
   "execution_count": 14,
   "metadata": {},
   "outputs": [
    {
     "data": {
      "text/plain": [
       "currRatingScore\n",
       "4.5                44790\n",
       "0                  39397\n",
       "5.0                24944\n",
       "NIL                23635\n",
       "4.0                13666\n",
       "3.5                 4551\n",
       "3.0                 3815\n",
       "1.0                 1621\n",
       "2.5                 1396\n",
       "2.0                  902\n",
       "1.5                  329\n",
       "0.0                   28\n",
       "dtype: int64"
      ]
     },
     "execution_count": 14,
     "metadata": {},
     "output_type": "execute_result"
    }
   ],
   "source": [
    "#currRatingScore\n",
    "app_metadata[['currRatingScore']].value_counts()"
   ]
  },
  {
   "cell_type": "code",
   "execution_count": 15,
   "metadata": {},
   "outputs": [
    {
     "data": {
      "text/plain": [
       "contentRating    0\n",
       "dtype: int64"
      ]
     },
     "execution_count": 15,
     "metadata": {},
     "output_type": "execute_result"
    }
   ],
   "source": [
    "app_metadata[['contentRating']].isnull().sum()"
   ]
  },
  {
   "cell_type": "code",
   "execution_count": 16,
   "metadata": {},
   "outputs": [
    {
     "data": {
      "text/plain": [
       "0            188907\n",
       "NIL              23\n",
       "6,99 €           20\n",
       "8,99 €           20\n",
       "3,49 €           20\n",
       "              ...  \n",
       "25,00 kr          3\n",
       "25,00 kr          1\n",
       "S$ 2.98           1\n",
       "Rp 29ribu         1\n",
       "HK$ 15.00         1\n",
       "Name: price, Length: 100, dtype: int64"
      ]
     },
     "execution_count": 16,
     "metadata": {},
     "output_type": "execute_result"
    }
   ],
   "source": [
    "app_metadata['price'].value_counts(ascending = False)"
   ]
  },
  {
   "cell_type": "code",
   "execution_count": 17,
   "metadata": {},
   "outputs": [
    {
     "data": {
      "text/plain": [
       "<seaborn.axisgrid.FacetGrid at 0x7fabf9f2e750>"
      ]
     },
     "execution_count": 17,
     "metadata": {},
     "output_type": "execute_result"
    },
    {
     "data": {
      "image/png": "[encoded data removed]",
      "text/plain": [
       "<Figure size 360x360 with 1 Axes>"
      ]
     },
     "metadata": {
      "needs_background": "light"
     },
     "output_type": "display_data"
    }
   ],
   "source": [
    "sns.displot(app_metadata['category'],kde = True,)\n"
   ]
  },
  {
   "cell_type": "code",
   "execution_count": 18,
   "metadata": {},
   "outputs": [
    {
     "data": {
      "text/plain": [
       "6014                  83133\n",
       "GAME_SIMULATION        8063\n",
       "6016                   6864\n",
       "6005                   6576\n",
       "6002                   6244\n",
       "                      ...  \n",
       "HOUSE_AND_HOME           52\n",
       "FOOD_AND_DRINK           44\n",
       "LIBRARIES_AND_DEMO       36\n",
       "PARENTING                32\n",
       "EVENTS                   12\n",
       "Name: category, Length: 71, dtype: int64"
      ]
     },
     "execution_count": 18,
     "metadata": {},
     "output_type": "execute_result"
    }
   ],
   "source": [
    "app_metadata['category'].value_counts(ascending = False)"
   ]
  },
  {
   "cell_type": "code",
   "execution_count": 19,
   "metadata": {},
   "outputs": [
    {
     "data": {
      "text/plain": [
       "array(['6000', '6014', '6005', '6013', '6008', '6011', '6002',\n",
       "       'GAME_SIMULATION', 'GAME_CASUAL', 'COMMUNICATION', 'GAME_ACTION',\n",
       "       'GAME_PUZZLE', 'NEWS_AND_MAGAZINES', 'TRAVEL_AND_LOCAL', 'TOOLS',\n",
       "       'AUTO_AND_VEHICLES', 'GAME_SPORTS', 'GAME_RACING', 'PHOTOGRAPHY',\n",
       "       'PERSONALIZATION', 'GAME_BOARD', 'MUSIC_AND_AUDIO', 'WEATHER',\n",
       "       'GAME_ROLE_PLAYING', 'GAME_STRATEGY', 'ENTERTAINMENT',\n",
       "       'GAME_EDUCATIONAL', 'GAME_WORD', 'GAME_ADVENTURE', 'LIFESTYLE',\n",
       "       'SPORTS', 'BOOKS_AND_REFERENCE', '6012', '6004', '6003',\n",
       "       'HEALTH_AND_FITNESS', 'SOCIAL', 'GAME_ARCADE', 'FINANCE', 'COMICS',\n",
       "       'GAME_CARD', 'FOOD_AND_DRINK', 'DATING', 'VIDEO_PLAYERS',\n",
       "       'PRODUCTIVITY', 'EDUCATION', '6007', '6006', 'MAPS_AND_NAVIGATION',\n",
       "       'GAME_CASINO', 'BUSINESS', 'SHOPPING', 'BEAUTY', '6016', '6001',\n",
       "       'GAME_TRIVIA', '6010', 'GAME_MUSIC', 'HOUSE_AND_HOME', '6018',\n",
       "       'ART_AND_DESIGN', 'LIBRARIES_AND_DEMO', 'MEDICAL', '6009', '6015',\n",
       "       '6024', 'PARENTING', '6017', '6023', 'EVENTS', nan, '6020'],\n",
       "      dtype=object)"
      ]
     },
     "execution_count": 19,
     "metadata": {},
     "output_type": "execute_result"
    }
   ],
   "source": [
    "app_metadata['category'].unique()"
   ]
  },
  {
   "cell_type": "code",
   "execution_count": 20,
   "metadata": {},
   "outputs": [
    {
     "name": "stdout",
     "output_type": "stream",
     "text": [
      "(190254, 7)\n",
      "appId               0\n",
      "bundleId         2232\n",
      "price             832\n",
      "category          504\n",
      "contentRating       0\n",
      "ratingScore      2687\n",
      "ratingCount      2687\n",
      "dtype: int64\n"
     ]
    }
   ],
   "source": [
    "#Get unique rows with category,appId,bundleId,contentrating\n",
    "interest = app_metadata[['appId','bundleId', 'price', 'category','contentRating','ratingScore','ratingCount']]\n",
    "print(interest.shape)\n",
    "print(interest.isnull().sum())"
   ]
  },
  {
   "cell_type": "code",
   "execution_count": 21,
   "metadata": {},
   "outputs": [
    {
     "name": "stdout",
     "output_type": "stream",
     "text": [
      "(190254, 7)\n",
      "14626\n"
     ]
    }
   ],
   "source": [
    "interest.drop_duplicates()\n",
    "print(interest.shape)\n",
    "print(interest['bundleId'].nunique())"
   ]
  },
  {
   "cell_type": "code",
   "execution_count": 22,
   "metadata": {},
   "outputs": [
    {
     "name": "stdout",
     "output_type": "stream",
     "text": [
      "appId               0\n",
      "bundleId         2232\n",
      "price             832\n",
      "category          504\n",
      "contentRating       0\n",
      "ratingScore      2687\n",
      "ratingCount      2687\n",
      "dtype: int64\n"
     ]
    }
   ],
   "source": [
    "interest.sort_values(by='appId',inplace=True)\n",
    "interest.fillna(method='ffill')\n",
    "print(interest.isnull().sum())"
   ]
  },
  {
   "cell_type": "code",
   "execution_count": 23,
   "metadata": {},
   "outputs": [
    {
     "data": {
      "text/html": [
       "<div>\n",
       "<style scoped>\n",
       "    .dataframe tbody tr th:only-of-type {\n",
       "        vertical-align: middle;\n",
       "    }\n",
       "\n",
       "    .dataframe tbody tr th {\n",
       "        vertical-align: top;\n",
       "    }\n",
       "\n",
       "    .dataframe thead th {\n",
       "        text-align: right;\n",
       "    }\n",
       "</style>\n",
       "<table border=\"1\" class=\"dataframe\">\n",
       "  <thead>\n",
       "    <tr style=\"text-align: right;\">\n",
       "      <th></th>\n",
       "      <th>appId</th>\n",
       "      <th>bundleId</th>\n",
       "      <th>price</th>\n",
       "      <th>category</th>\n",
       "      <th>contentRating</th>\n",
       "      <th>ratingScore</th>\n",
       "      <th>ratingCount</th>\n",
       "    </tr>\n",
       "  </thead>\n",
       "  <tbody>\n",
       "    <tr>\n",
       "      <th>90668</th>\n",
       "      <td>1001043187</td>\n",
       "      <td>com.triviador.trxe</td>\n",
       "      <td>0</td>\n",
       "      <td>6014</td>\n",
       "      <td>4+</td>\n",
       "      <td>3.0</td>\n",
       "      <td>10</td>\n",
       "    </tr>\n",
       "    <tr>\n",
       "      <th>90672</th>\n",
       "      <td>1001043187</td>\n",
       "      <td>com.triviador.trxe</td>\n",
       "      <td>0</td>\n",
       "      <td>6014</td>\n",
       "      <td>4+</td>\n",
       "      <td>2.5</td>\n",
       "      <td>25</td>\n",
       "    </tr>\n",
       "    <tr>\n",
       "      <th>90671</th>\n",
       "      <td>1001043187</td>\n",
       "      <td>com.triviador.trxe</td>\n",
       "      <td>0</td>\n",
       "      <td>6014</td>\n",
       "      <td>4+</td>\n",
       "      <td>2.5</td>\n",
       "      <td>25</td>\n",
       "    </tr>\n",
       "    <tr>\n",
       "      <th>90670</th>\n",
       "      <td>1001043187</td>\n",
       "      <td>com.triviador.trxe</td>\n",
       "      <td>0</td>\n",
       "      <td>6014</td>\n",
       "      <td>4+</td>\n",
       "      <td>2.5</td>\n",
       "      <td>25</td>\n",
       "    </tr>\n",
       "    <tr>\n",
       "      <th>90669</th>\n",
       "      <td>1001043187</td>\n",
       "      <td>com.triviador.trxe</td>\n",
       "      <td>0</td>\n",
       "      <td>6014</td>\n",
       "      <td>4+</td>\n",
       "      <td>3.0</td>\n",
       "      <td>10</td>\n",
       "    </tr>\n",
       "    <tr>\n",
       "      <th>...</th>\n",
       "      <td>...</td>\n",
       "      <td>...</td>\n",
       "      <td>...</td>\n",
       "      <td>...</td>\n",
       "      <td>...</td>\n",
       "      <td>...</td>\n",
       "      <td>...</td>\n",
       "    </tr>\n",
       "    <tr>\n",
       "      <th>100225</th>\n",
       "      <td>zone.gaychat.app</td>\n",
       "      <td>zone.gaychat.app</td>\n",
       "      <td>0</td>\n",
       "      <td>SOCIAL</td>\n",
       "      <td>Rated for 18+</td>\n",
       "      <td>3.8375000953674316</td>\n",
       "      <td>80</td>\n",
       "    </tr>\n",
       "    <tr>\n",
       "      <th>91876</th>\n",
       "      <td>zoo.rescue</td>\n",
       "      <td>zoo.rescue</td>\n",
       "      <td>0</td>\n",
       "      <td>GAME_PUZZLE</td>\n",
       "      <td>Rated for 3+</td>\n",
       "      <td>4.600623607635498</td>\n",
       "      <td>18917</td>\n",
       "    </tr>\n",
       "    <tr>\n",
       "      <th>91874</th>\n",
       "      <td>zoo.rescue</td>\n",
       "      <td>zoo.rescue</td>\n",
       "      <td>0</td>\n",
       "      <td>GAME_PUZZLE</td>\n",
       "      <td>Rated for 3+</td>\n",
       "      <td>4.600623607635498</td>\n",
       "      <td>18917</td>\n",
       "    </tr>\n",
       "    <tr>\n",
       "      <th>91875</th>\n",
       "      <td>zoo.rescue</td>\n",
       "      <td>zoo.rescue</td>\n",
       "      <td>0</td>\n",
       "      <td>GAME_PUZZLE</td>\n",
       "      <td>Rated for 3+</td>\n",
       "      <td>4.600623607635498</td>\n",
       "      <td>18917</td>\n",
       "    </tr>\n",
       "    <tr>\n",
       "      <th>91873</th>\n",
       "      <td>zoo.rescue</td>\n",
       "      <td>zoo.rescue</td>\n",
       "      <td>0</td>\n",
       "      <td>GAME_PUZZLE</td>\n",
       "      <td>Rated for 3+</td>\n",
       "      <td>4.600623607635498</td>\n",
       "      <td>18917</td>\n",
       "    </tr>\n",
       "  </tbody>\n",
       "</table>\n",
       "<p>190254 rows × 7 columns</p>\n",
       "</div>"
      ],
      "text/plain": [
       "                   appId            bundleId price     category  \\\n",
       "90668         1001043187  com.triviador.trxe     0         6014   \n",
       "90672         1001043187  com.triviador.trxe     0         6014   \n",
       "90671         1001043187  com.triviador.trxe     0         6014   \n",
       "90670         1001043187  com.triviador.trxe     0         6014   \n",
       "90669         1001043187  com.triviador.trxe     0         6014   \n",
       "...                  ...                 ...   ...          ...   \n",
       "100225  zone.gaychat.app    zone.gaychat.app     0       SOCIAL   \n",
       "91876         zoo.rescue          zoo.rescue     0  GAME_PUZZLE   \n",
       "91874         zoo.rescue          zoo.rescue     0  GAME_PUZZLE   \n",
       "91875         zoo.rescue          zoo.rescue     0  GAME_PUZZLE   \n",
       "91873         zoo.rescue          zoo.rescue     0  GAME_PUZZLE   \n",
       "\n",
       "        contentRating         ratingScore ratingCount  \n",
       "90668              4+                 3.0          10  \n",
       "90672              4+                 2.5          25  \n",
       "90671              4+                 2.5          25  \n",
       "90670              4+                 2.5          25  \n",
       "90669              4+                 3.0          10  \n",
       "...               ...                 ...         ...  \n",
       "100225  Rated for 18+  3.8375000953674316          80  \n",
       "91876    Rated for 3+   4.600623607635498       18917  \n",
       "91874    Rated for 3+   4.600623607635498       18917  \n",
       "91875    Rated for 3+   4.600623607635498       18917  \n",
       "91873    Rated for 3+   4.600623607635498       18917  \n",
       "\n",
       "[190254 rows x 7 columns]"
      ]
     },
     "execution_count": 23,
     "metadata": {},
     "output_type": "execute_result"
    }
   ],
   "source": [
    "interest"
   ]
  },
  {
   "cell_type": "code",
   "execution_count": 24,
   "metadata": {},
   "outputs": [
    {
     "name": "stdout",
     "output_type": "stream",
     "text": [
      "(15735, 4)\n",
      "appId              0\n",
      "bundleId         558\n",
      "category          34\n",
      "contentRating      0\n",
      "dtype: int64\n"
     ]
    }
   ],
   "source": [
    "interest_2 = app_metadata[['appId','bundleId','category','contentRating']]\n",
    "interest_2 = interest_2.drop_duplicates()\n",
    "print(interest_2.shape)\n",
    "print(interest_2.isnull().sum())"
   ]
  },
  {
   "cell_type": "code",
   "execution_count": 25,
   "metadata": {},
   "outputs": [
    {
     "name": "stdout",
     "output_type": "stream",
     "text": [
      "appId               0\n",
      "bundleId           33\n",
      "category         1122\n",
      "contentRating       0\n",
      "bundleId_idx        0\n",
      "dtype: int64\n"
     ]
    },
    {
     "data": {
      "text/html": [
       "<div>\n",
       "<style scoped>\n",
       "    .dataframe tbody tr th:only-of-type {\n",
       "        vertical-align: middle;\n",
       "    }\n",
       "\n",
       "    .dataframe tbody tr th {\n",
       "        vertical-align: top;\n",
       "    }\n",
       "\n",
       "    .dataframe thead th {\n",
       "        text-align: right;\n",
       "    }\n",
       "</style>\n",
       "<table border=\"1\" class=\"dataframe\">\n",
       "  <thead>\n",
       "    <tr style=\"text-align: right;\">\n",
       "      <th></th>\n",
       "      <th>appId</th>\n",
       "      <th>category</th>\n",
       "      <th>contentRating</th>\n",
       "      <th>bundleId</th>\n",
       "    </tr>\n",
       "  </thead>\n",
       "  <tbody>\n",
       "    <tr>\n",
       "      <th>0</th>\n",
       "      <td>1040093707</td>\n",
       "      <td>6000</td>\n",
       "      <td>4+</td>\n",
       "      <td>com.zuletteran.scannerfree</td>\n",
       "    </tr>\n",
       "    <tr>\n",
       "      <th>1</th>\n",
       "      <td>1114751883</td>\n",
       "      <td>6014</td>\n",
       "      <td>9+</td>\n",
       "      <td>com.miniclip.diep.io</td>\n",
       "    </tr>\n",
       "    <tr>\n",
       "      <th>2</th>\n",
       "      <td>1255469255</td>\n",
       "      <td>6005</td>\n",
       "      <td>12+</td>\n",
       "      <td>gg.analytics</td>\n",
       "    </tr>\n",
       "    <tr>\n",
       "      <th>3</th>\n",
       "      <td>1299745483</td>\n",
       "      <td>6014</td>\n",
       "      <td>4+</td>\n",
       "      <td>com.ketchapp.2048bricks</td>\n",
       "    </tr>\n",
       "    <tr>\n",
       "      <th>4</th>\n",
       "      <td>1300550045</td>\n",
       "      <td>6014</td>\n",
       "      <td>9+</td>\n",
       "      <td>com.salmanios.scorpion.robot</td>\n",
       "    </tr>\n",
       "  </tbody>\n",
       "</table>\n",
       "</div>"
      ],
      "text/plain": [
       "        appId category contentRating                      bundleId\n",
       "0  1040093707     6000            4+    com.zuletteran.scannerfree\n",
       "1  1114751883     6014            9+          com.miniclip.diep.io\n",
       "2  1255469255     6005           12+                  gg.analytics\n",
       "3  1299745483     6014            4+       com.ketchapp.2048bricks\n",
       "4  1300550045     6014            9+  com.salmanios.scorpion.robot"
      ]
     },
     "execution_count": 25,
     "metadata": {},
     "output_type": "execute_result"
    }
   ],
   "source": [
    "# Replace null values with ids dataframe if any - \n",
    "out_df = (interest_2.merge(ids, left_on='appId', right_on='appId_idx')\n",
    "          .reindex(columns=['appId', 'bundleId', 'category', 'contentRating','bundleId_idx']))\n",
    "print(out_df.isnull().sum())\n",
    "out_df.drop('bundleId', axis=1, inplace=True)\n",
    "out_df.rename(columns={'bundleId_idx': 'bundleId'}, inplace=True)\n",
    "out_df.head()"
   ]
  },
  {
   "cell_type": "code",
   "execution_count": 26,
   "metadata": {},
   "outputs": [
    {
     "name": "stdout",
     "output_type": "stream",
     "text": [
      "appId               0\n",
      "category         1122\n",
      "contentRating       0\n",
      "bundleId            0\n",
      "dtype: int64\n"
     ]
    },
    {
     "data": {
      "text/plain": [
       "(15176, 4)"
      ]
     },
     "execution_count": 26,
     "metadata": {},
     "output_type": "execute_result"
    }
   ],
   "source": [
    "print(out_df.isnull().sum())\n",
    "out_df = out_df.dropna()\n",
    "out_df.shape"
   ]
  },
  {
   "cell_type": "markdown",
   "metadata": {},
   "source": [
    "## App propensity & metadata merge"
   ]
  },
  {
   "cell_type": "code",
   "execution_count": 27,
   "metadata": {},
   "outputs": [
    {
     "name": "stdout",
     "output_type": "stream",
     "text": [
      "(3492775, 6)\n"
     ]
    },
    {
     "data": {
      "text/html": [
       "<div>\n",
       "<style scoped>\n",
       "    .dataframe tbody tr th:only-of-type {\n",
       "        vertical-align: middle;\n",
       "    }\n",
       "\n",
       "    .dataframe tbody tr th {\n",
       "        vertical-align: top;\n",
       "    }\n",
       "\n",
       "    .dataframe thead th {\n",
       "        text-align: right;\n",
       "    }\n",
       "</style>\n",
       "<table border=\"1\" class=\"dataframe\">\n",
       "  <thead>\n",
       "    <tr style=\"text-align: right;\">\n",
       "      <th></th>\n",
       "      <th>ifa</th>\n",
       "      <th>bundle</th>\n",
       "      <th>weight</th>\n",
       "      <th>appId</th>\n",
       "      <th>category</th>\n",
       "      <th>contentRating</th>\n",
       "    </tr>\n",
       "  </thead>\n",
       "  <tbody>\n",
       "    <tr>\n",
       "      <th>0</th>\n",
       "      <td>7ee413f5f44783ebd036b30f62a7d8cd94a5a844e27416...</td>\n",
       "      <td>com.lenovo.anyshare.gps</td>\n",
       "      <td>0.18772</td>\n",
       "      <td>com.lenovo.anyshare.gps</td>\n",
       "      <td>TOOLS</td>\n",
       "      <td>Rated for 3+</td>\n",
       "    </tr>\n",
       "    <tr>\n",
       "      <th>1</th>\n",
       "      <td>0abc06345b72381509cc7a1662486d9b42346aa142a34e...</td>\n",
       "      <td>com.lenovo.anyshare.gps</td>\n",
       "      <td>0.05908</td>\n",
       "      <td>com.lenovo.anyshare.gps</td>\n",
       "      <td>TOOLS</td>\n",
       "      <td>Rated for 3+</td>\n",
       "    </tr>\n",
       "  </tbody>\n",
       "</table>\n",
       "</div>"
      ],
      "text/plain": [
       "                                                 ifa                   bundle  \\\n",
       "0  7ee413f5f44783ebd036b30f62a7d8cd94a5a844e27416...  com.lenovo.anyshare.gps   \n",
       "1  0abc06345b72381509cc7a1662486d9b42346aa142a34e...  com.lenovo.anyshare.gps   \n",
       "\n",
       "    weight                    appId category contentRating  \n",
       "0  0.18772  com.lenovo.anyshare.gps    TOOLS  Rated for 3+  \n",
       "1  0.05908  com.lenovo.anyshare.gps    TOOLS  Rated for 3+  "
      ]
     },
     "execution_count": 27,
     "metadata": {},
     "output_type": "execute_result"
    }
   ],
   "source": [
    "merged = app_propensity.merge(out_df,left_on= 'bundle',right_on= 'bundleId').reindex(columns = ['ifa','bundle','weight','appId','category','contentRating'])\n",
    "print(merged.shape)\n",
    "merged.head(2)\n"
   ]
  },
  {
   "cell_type": "code",
   "execution_count": 28,
   "metadata": {},
   "outputs": [
    {
     "data": {
      "text/plain": [
       "ifa              0\n",
       "bundle           0\n",
       "weight           0\n",
       "appId            0\n",
       "category         0\n",
       "contentRating    0\n",
       "dtype: int64"
      ]
     },
     "execution_count": 28,
     "metadata": {},
     "output_type": "execute_result"
    }
   ],
   "source": [
    "merged.isnull().sum()"
   ]
  },
  {
   "cell_type": "code",
   "execution_count": 29,
   "metadata": {},
   "outputs": [],
   "source": [
    "merged.to_csv('merged_appdata.csv', index= False)"
   ]
  },
  {
   "cell_type": "markdown",
   "metadata": {},
   "source": [
    "## Voila! We now have a refined dataframe made from app_propensity & metadata \n",
    "#### How can we combine these attributes with our dataframe?"
   ]
  },
  {
   "cell_type": "code",
   "execution_count": 30,
   "metadata": {},
   "outputs": [
    {
     "data": {
      "text/plain": [
       "(3492775, 6)"
      ]
     },
     "execution_count": 30,
     "metadata": {},
     "output_type": "execute_result"
    }
   ],
   "source": [
    "merged.shape"
   ]
  },
  {
   "cell_type": "code",
   "execution_count": 31,
   "metadata": {},
   "outputs": [
    {
     "data": {
      "text/plain": [
       "(3492775, 6)"
      ]
     },
     "execution_count": 31,
     "metadata": {},
     "output_type": "execute_result"
    }
   ],
   "source": [
    "merged = merged.drop_duplicates()\n",
    "merged.shape"
   ]
  },
  {
   "cell_type": "code",
   "execution_count": 32,
   "metadata": {},
   "outputs": [
    {
     "data": {
      "text/plain": [
       "array(['TOOLS', 'GAME_CARD', 'VIDEO_PLAYERS', 'PHOTOGRAPHY', 'LIFESTYLE',\n",
       "       '6014', 'GAME_PUZZLE', 'GAME_TRIVIA', 'GAME_WORD', 'GAME_BOARD',\n",
       "       'ENTERTAINMENT', '6016', 'GAME_ARCADE', 'GAME_CASUAL',\n",
       "       'GAME_ACTION', 'NEWS_AND_MAGAZINES', 'GAME_RACING',\n",
       "       'PERSONALIZATION', 'GAME_SPORTS', 'GAME_SIMULATION', 'SOCIAL',\n",
       "       'HEALTH_AND_FITNESS', 'PRODUCTIVITY', 'MUSIC_AND_AUDIO', 'COMICS',\n",
       "       '6004', 'COMMUNICATION', 'GAME_MUSIC', 'AUTO_AND_VEHICLES',\n",
       "       'EDUCATION', 'HOUSE_AND_HOME', 'GAME_STRATEGY', 'SPORTS', '6008',\n",
       "       'TRAVEL_AND_LOCAL', 'GAME_EDUCATIONAL', 'BUSINESS', 'WEATHER',\n",
       "       'BOOKS_AND_REFERENCE', 'GAME_ADVENTURE', '6011',\n",
       "       'GAME_ROLE_PLAYING', 'GAME_CASINO', 'DATING', '6007', '6005',\n",
       "       '6000', '6013', '6012', 'SHOPPING', 'PARENTING', 'FINANCE',\n",
       "       'MEDICAL', 'LIBRARIES_AND_DEMO', '6002', 'ART_AND_DESIGN',\n",
       "       'MAPS_AND_NAVIGATION', 'BEAUTY', 'EVENTS', 'FOOD_AND_DRINK',\n",
       "       '6020', '6024', '6018', '6010', '6006', '6015', '6003', '6001'],\n",
       "      dtype=object)"
      ]
     },
     "execution_count": 32,
     "metadata": {},
     "output_type": "execute_result"
    }
   ],
   "source": [
    "merged['category'].unique()"
   ]
  },
  {
   "cell_type": "code",
   "execution_count": 33,
   "metadata": {},
   "outputs": [
    {
     "name": "stdout",
     "output_type": "stream",
     "text": [
      "category\n",
      "6000                 1128.75958\n",
      "6001                    0.00426\n",
      "6002                   36.44025\n",
      "6003                    0.01601\n",
      "6004                  193.83532\n",
      "                       ...     \n",
      "SPORTS                869.56421\n",
      "TOOLS               33151.25059\n",
      "TRAVEL_AND_LOCAL      251.37425\n",
      "VIDEO_PLAYERS       49738.70434\n",
      "WEATHER               260.28919\n",
      "Name: weight, Length: 68, dtype: float64\n"
     ]
    }
   ],
   "source": [
    "print(merged.groupby('category')['weight'].sum())"
   ]
  },
  {
   "cell_type": "markdown",
   "metadata": {},
   "source": [
    "### For every ifa I can have a set of columns - rolled open categories - with summed propensity scores, if none then zero. \n",
    "\n",
    "### \"ifa\" - \"respective category propensity score\""
   ]
  },
  {
   "cell_type": "code",
   "execution_count": 34,
   "metadata": {},
   "outputs": [
    {
     "data": {
      "text/html": [
       "<div>\n",
       "<style scoped>\n",
       "    .dataframe tbody tr th:only-of-type {\n",
       "        vertical-align: middle;\n",
       "    }\n",
       "\n",
       "    .dataframe tbody tr th {\n",
       "        vertical-align: top;\n",
       "    }\n",
       "\n",
       "    .dataframe thead th {\n",
       "        text-align: right;\n",
       "    }\n",
       "</style>\n",
       "<table border=\"1\" class=\"dataframe\">\n",
       "  <thead>\n",
       "    <tr style=\"text-align: right;\">\n",
       "      <th></th>\n",
       "      <th>ifa</th>\n",
       "      <th>category</th>\n",
       "      <th>weight</th>\n",
       "    </tr>\n",
       "  </thead>\n",
       "  <tbody>\n",
       "    <tr>\n",
       "      <th>0</th>\n",
       "      <td>00002c2abb627089988287fa9cb1569b43076bdfdad67d...</td>\n",
       "      <td>COMMUNICATION</td>\n",
       "      <td>0.00176</td>\n",
       "    </tr>\n",
       "    <tr>\n",
       "      <th>1</th>\n",
       "      <td>00002c2abb627089988287fa9cb1569b43076bdfdad67d...</td>\n",
       "      <td>GAME_CARD</td>\n",
       "      <td>0.00177</td>\n",
       "    </tr>\n",
       "    <tr>\n",
       "      <th>2</th>\n",
       "      <td>00002c2abb627089988287fa9cb1569b43076bdfdad67d...</td>\n",
       "      <td>SOCIAL</td>\n",
       "      <td>0.00708</td>\n",
       "    </tr>\n",
       "    <tr>\n",
       "      <th>3</th>\n",
       "      <td>00002c2abb627089988287fa9cb1569b43076bdfdad67d...</td>\n",
       "      <td>TOOLS</td>\n",
       "      <td>0.17354</td>\n",
       "    </tr>\n",
       "    <tr>\n",
       "      <th>4</th>\n",
       "      <td>00002c2abb627089988287fa9cb1569b43076bdfdad67d...</td>\n",
       "      <td>VIDEO_PLAYERS</td>\n",
       "      <td>0.81407</td>\n",
       "    </tr>\n",
       "  </tbody>\n",
       "</table>\n",
       "</div>"
      ],
      "text/plain": [
       "                                                 ifa       category   weight\n",
       "0  00002c2abb627089988287fa9cb1569b43076bdfdad67d...  COMMUNICATION  0.00176\n",
       "1  00002c2abb627089988287fa9cb1569b43076bdfdad67d...      GAME_CARD  0.00177\n",
       "2  00002c2abb627089988287fa9cb1569b43076bdfdad67d...         SOCIAL  0.00708\n",
       "3  00002c2abb627089988287fa9cb1569b43076bdfdad67d...          TOOLS  0.17354\n",
       "4  00002c2abb627089988287fa9cb1569b43076bdfdad67d...  VIDEO_PLAYERS  0.81407"
      ]
     },
     "execution_count": 34,
     "metadata": {},
     "output_type": "execute_result"
    }
   ],
   "source": [
    "\n",
    "new_df = merged.groupby(['ifa','category'])['weight'].sum().reset_index()\n",
    "new_df.head()"
   ]
  },
  {
   "cell_type": "code",
   "execution_count": 35,
   "metadata": {},
   "outputs": [
    {
     "name": "stdout",
     "output_type": "stream",
     "text": [
      "Length:  68\n"
     ]
    },
    {
     "data": {
      "text/plain": [
       "array(['COMMUNICATION', 'GAME_CARD', 'SOCIAL', 'TOOLS', 'VIDEO_PLAYERS',\n",
       "       'PERSONALIZATION', 'PHOTOGRAPHY', 'PRODUCTIVITY', '6011', '6014',\n",
       "       '6016', 'ENTERTAINMENT', 'GAME_ACTION', 'GAME_BOARD',\n",
       "       'GAME_CASUAL', 'GAME_PUZZLE', 'GAME_SIMULATION', 'GAME_SPORTS',\n",
       "       'GAME_STRATEGY', 'MUSIC_AND_AUDIO', 'NEWS_AND_MAGAZINES',\n",
       "       'GAME_ARCADE', 'GAME_RACING', 'HEALTH_AND_FITNESS', '6008',\n",
       "       'GAME_WORD', '6000', 'LIFESTYLE', 'GAME_MUSIC', 'DATING', 'SPORTS',\n",
       "       'GAME_ROLE_PLAYING', 'PARENTING', 'SHOPPING', 'GAME_TRIVIA',\n",
       "       'FINANCE', 'BUSINESS', 'TRAVEL_AND_LOCAL', 'AUTO_AND_VEHICLES',\n",
       "       '6012', '6004', 'GAME_EDUCATIONAL', 'WEATHER',\n",
       "       'BOOKS_AND_REFERENCE', 'GAME_ADVENTURE', '6005',\n",
       "       'LIBRARIES_AND_DEMO', 'COMICS', 'EDUCATION', 'MAPS_AND_NAVIGATION',\n",
       "       '6002', 'GAME_CASINO', 'HOUSE_AND_HOME', '6007', '6013', 'MEDICAL',\n",
       "       'ART_AND_DESIGN', 'FOOD_AND_DRINK', 'BEAUTY', 'EVENTS', '6015',\n",
       "       '6020', '6024', '6001', '6018', '6003', '6010', '6006'],\n",
       "      dtype=object)"
      ]
     },
     "execution_count": 35,
     "metadata": {},
     "output_type": "execute_result"
    }
   ],
   "source": [
    "print(\"Length: \", len(new_df['category'].unique()))\n",
    "new_df['category'].unique()"
   ]
  },
  {
   "cell_type": "code",
   "execution_count": 36,
   "metadata": {},
   "outputs": [
    {
     "data": {
      "text/plain": [
       "category\n",
       "ifa                      0\n",
       "6000                261965\n",
       "6001                269884\n",
       "6002                269280\n",
       "6003                269886\n",
       "                     ...  \n",
       "SPORTS              263686\n",
       "TOOLS                85262\n",
       "TRAVEL_AND_LOCAL    265966\n",
       "VIDEO_PLAYERS        95849\n",
       "WEATHER             266071\n",
       "Length: 69, dtype: int64"
      ]
     },
     "execution_count": 36,
     "metadata": {},
     "output_type": "execute_result"
    }
   ],
   "source": [
    "ifa_catscores = new_df.pivot(index='ifa', columns='category', values='weight').reset_index()\n",
    "ifa_catscores.isnull().sum()"
   ]
  },
  {
   "cell_type": "code",
   "execution_count": 37,
   "metadata": {},
   "outputs": [
    {
     "data": {
      "text/html": [
       "<div>\n",
       "<style scoped>\n",
       "    .dataframe tbody tr th:only-of-type {\n",
       "        vertical-align: middle;\n",
       "    }\n",
       "\n",
       "    .dataframe tbody tr th {\n",
       "        vertical-align: top;\n",
       "    }\n",
       "\n",
       "    .dataframe thead th {\n",
       "        text-align: right;\n",
       "    }\n",
       "</style>\n",
       "<table border=\"1\" class=\"dataframe\">\n",
       "  <thead>\n",
       "    <tr style=\"text-align: right;\">\n",
       "      <th>category</th>\n",
       "      <th>ifa</th>\n",
       "      <th>6000</th>\n",
       "      <th>6001</th>\n",
       "      <th>6002</th>\n",
       "      <th>6003</th>\n",
       "      <th>6004</th>\n",
       "      <th>6005</th>\n",
       "      <th>6006</th>\n",
       "      <th>6007</th>\n",
       "      <th>6008</th>\n",
       "      <th>...</th>\n",
       "      <th>PERSONALIZATION</th>\n",
       "      <th>PHOTOGRAPHY</th>\n",
       "      <th>PRODUCTIVITY</th>\n",
       "      <th>SHOPPING</th>\n",
       "      <th>SOCIAL</th>\n",
       "      <th>SPORTS</th>\n",
       "      <th>TOOLS</th>\n",
       "      <th>TRAVEL_AND_LOCAL</th>\n",
       "      <th>VIDEO_PLAYERS</th>\n",
       "      <th>WEATHER</th>\n",
       "    </tr>\n",
       "  </thead>\n",
       "  <tbody>\n",
       "    <tr>\n",
       "      <th>0</th>\n",
       "      <td>00002c2abb627089988287fa9cb1569b43076bdfdad67d...</td>\n",
       "      <td>0.0</td>\n",
       "      <td>0.0</td>\n",
       "      <td>0.0</td>\n",
       "      <td>0.0</td>\n",
       "      <td>0.0</td>\n",
       "      <td>0.0</td>\n",
       "      <td>0.0</td>\n",
       "      <td>0.0</td>\n",
       "      <td>0.0</td>\n",
       "      <td>...</td>\n",
       "      <td>0.0000</td>\n",
       "      <td>0.00000</td>\n",
       "      <td>0.00000</td>\n",
       "      <td>0.0</td>\n",
       "      <td>0.00708</td>\n",
       "      <td>0.0</td>\n",
       "      <td>0.17354</td>\n",
       "      <td>0.0</td>\n",
       "      <td>0.81407</td>\n",
       "      <td>0.0</td>\n",
       "    </tr>\n",
       "    <tr>\n",
       "      <th>1</th>\n",
       "      <td>00009f893e849715bcc809dd0891e78bc4ef9dd3061eac...</td>\n",
       "      <td>0.0</td>\n",
       "      <td>0.0</td>\n",
       "      <td>0.0</td>\n",
       "      <td>0.0</td>\n",
       "      <td>0.0</td>\n",
       "      <td>0.0</td>\n",
       "      <td>0.0</td>\n",
       "      <td>0.0</td>\n",
       "      <td>0.0</td>\n",
       "      <td>...</td>\n",
       "      <td>0.7635</td>\n",
       "      <td>0.03187</td>\n",
       "      <td>0.00000</td>\n",
       "      <td>0.0</td>\n",
       "      <td>0.00646</td>\n",
       "      <td>0.0</td>\n",
       "      <td>0.02586</td>\n",
       "      <td>0.0</td>\n",
       "      <td>0.00000</td>\n",
       "      <td>0.0</td>\n",
       "    </tr>\n",
       "    <tr>\n",
       "      <th>2</th>\n",
       "      <td>0000ac97665d160ff6c012f0af44a13a83d0065cdd8046...</td>\n",
       "      <td>0.0</td>\n",
       "      <td>0.0</td>\n",
       "      <td>0.0</td>\n",
       "      <td>0.0</td>\n",
       "      <td>0.0</td>\n",
       "      <td>0.0</td>\n",
       "      <td>0.0</td>\n",
       "      <td>0.0</td>\n",
       "      <td>0.0</td>\n",
       "      <td>...</td>\n",
       "      <td>0.0000</td>\n",
       "      <td>0.39687</td>\n",
       "      <td>0.03031</td>\n",
       "      <td>0.0</td>\n",
       "      <td>0.00000</td>\n",
       "      <td>0.0</td>\n",
       "      <td>0.51015</td>\n",
       "      <td>0.0</td>\n",
       "      <td>0.06267</td>\n",
       "      <td>0.0</td>\n",
       "    </tr>\n",
       "    <tr>\n",
       "      <th>3</th>\n",
       "      <td>0000bef11e506141ce0f4159e0412038c892477ff7752b...</td>\n",
       "      <td>0.0</td>\n",
       "      <td>0.0</td>\n",
       "      <td>0.0</td>\n",
       "      <td>0.0</td>\n",
       "      <td>0.0</td>\n",
       "      <td>0.0</td>\n",
       "      <td>0.0</td>\n",
       "      <td>0.0</td>\n",
       "      <td>0.0</td>\n",
       "      <td>...</td>\n",
       "      <td>0.0000</td>\n",
       "      <td>0.01475</td>\n",
       "      <td>0.00000</td>\n",
       "      <td>0.0</td>\n",
       "      <td>0.00000</td>\n",
       "      <td>0.0</td>\n",
       "      <td>0.00000</td>\n",
       "      <td>0.0</td>\n",
       "      <td>0.00000</td>\n",
       "      <td>0.0</td>\n",
       "    </tr>\n",
       "    <tr>\n",
       "      <th>4</th>\n",
       "      <td>000123a2d98e624b7f11b4fc81f9879bc8b7aab9c7dc75...</td>\n",
       "      <td>0.0</td>\n",
       "      <td>0.0</td>\n",
       "      <td>0.0</td>\n",
       "      <td>0.0</td>\n",
       "      <td>0.0</td>\n",
       "      <td>0.0</td>\n",
       "      <td>0.0</td>\n",
       "      <td>0.0</td>\n",
       "      <td>0.0</td>\n",
       "      <td>...</td>\n",
       "      <td>0.0000</td>\n",
       "      <td>0.37289</td>\n",
       "      <td>0.27507</td>\n",
       "      <td>0.0</td>\n",
       "      <td>0.00000</td>\n",
       "      <td>0.0</td>\n",
       "      <td>0.25724</td>\n",
       "      <td>0.0</td>\n",
       "      <td>0.09481</td>\n",
       "      <td>0.0</td>\n",
       "    </tr>\n",
       "  </tbody>\n",
       "</table>\n",
       "<p>5 rows × 69 columns</p>\n",
       "</div>"
      ],
      "text/plain": [
       "category                                                ifa  6000  6001  6002  \\\n",
       "0         00002c2abb627089988287fa9cb1569b43076bdfdad67d...   0.0   0.0   0.0   \n",
       "1         00009f893e849715bcc809dd0891e78bc4ef9dd3061eac...   0.0   0.0   0.0   \n",
       "2         0000ac97665d160ff6c012f0af44a13a83d0065cdd8046...   0.0   0.0   0.0   \n",
       "3         0000bef11e506141ce0f4159e0412038c892477ff7752b...   0.0   0.0   0.0   \n",
       "4         000123a2d98e624b7f11b4fc81f9879bc8b7aab9c7dc75...   0.0   0.0   0.0   \n",
       "\n",
       "category  6003  6004  6005  6006  6007  6008  ...  PERSONALIZATION  \\\n",
       "0          0.0   0.0   0.0   0.0   0.0   0.0  ...           0.0000   \n",
       "1          0.0   0.0   0.0   0.0   0.0   0.0  ...           0.7635   \n",
       "2          0.0   0.0   0.0   0.0   0.0   0.0  ...           0.0000   \n",
       "3          0.0   0.0   0.0   0.0   0.0   0.0  ...           0.0000   \n",
       "4          0.0   0.0   0.0   0.0   0.0   0.0  ...           0.0000   \n",
       "\n",
       "category  PHOTOGRAPHY  PRODUCTIVITY  SHOPPING   SOCIAL  SPORTS    TOOLS  \\\n",
       "0             0.00000       0.00000       0.0  0.00708     0.0  0.17354   \n",
       "1             0.03187       0.00000       0.0  0.00646     0.0  0.02586   \n",
       "2             0.39687       0.03031       0.0  0.00000     0.0  0.51015   \n",
       "3             0.01475       0.00000       0.0  0.00000     0.0  0.00000   \n",
       "4             0.37289       0.27507       0.0  0.00000     0.0  0.25724   \n",
       "\n",
       "category  TRAVEL_AND_LOCAL  VIDEO_PLAYERS  WEATHER  \n",
       "0                      0.0        0.81407      0.0  \n",
       "1                      0.0        0.00000      0.0  \n",
       "2                      0.0        0.06267      0.0  \n",
       "3                      0.0        0.00000      0.0  \n",
       "4                      0.0        0.09481      0.0  \n",
       "\n",
       "[5 rows x 69 columns]"
      ]
     },
     "execution_count": 37,
     "metadata": {},
     "output_type": "execute_result"
    }
   ],
   "source": [
    "ifa_catscores = ifa_catscores.fillna(0)\n",
    "ifa_catscores.head(5)\n"
   ]
  },
  {
   "cell_type": "code",
   "execution_count": 38,
   "metadata": {},
   "outputs": [
    {
     "name": "stdout",
     "output_type": "stream",
     "text": [
      "(269887, 69)\n"
     ]
    }
   ],
   "source": [
    "print(ifa_catscores.shape)\n",
    "ifa_catscores.to_csv('ifa_catscores.csv',index = False)"
   ]
  },
  {
   "cell_type": "markdown",
   "metadata": {},
   "source": [
    "### Although there's a huge chunk of zeros in here, let's filter those out later! For now this seems perfect for our use."
   ]
  },
  {
   "cell_type": "markdown",
   "metadata": {},
   "source": [
    "## We now have two dataframes - One ifa train data & two app category propensity scores for each ifa.\n",
    "### Let's combine these and process them further in the next notebook"
   ]
  },
  {
   "cell_type": "markdown",
   "metadata": {},
   "source": [
    "# You've reached the end. Thank you!"
   ]
  }
 ],
 "metadata": {
  "interpreter": {
   "hash": "40d3a090f54c6569ab1632332b64b2c03c39dcf918b08424e98f38b5ae0af88f"
  },
  "kernelspec": {
   "display_name": "Python 3.7.11 64-bit ('base': conda)",
   "language": "python",
   "name": "python3"
  },
  "language_info": {
   "codemirror_mode": {
    "name": "ipython",
    "version": 3
   },
   "file_extension": ".py",
   "mimetype": "text/x-python",
   "name": "python",
   "nbconvert_exporter": "python",
   "pygments_lexer": "ipython3",
   "version": "3.7.11"
  },
  "orig_nbformat": 4
 },
 "nbformat": 4,
 "nbformat_minor": 2
}
